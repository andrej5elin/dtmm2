{
 "cells": [
  {
   "cell_type": "markdown",
   "id": "f2945633-98fb-4650-bded-78affa755c02",
   "metadata": {},
   "source": [
    "# SHG imaging of LC samples using plane wave illumination - 1D 4x4 matrix method\n",
    "\n",
    "Here we use 1D simulator on 3D LC sample illuminated with a single plane wave - no diffraction effects. \n",
    "For this to be valid, sample thickness has to be small compared to the lateral variation of the LC director in the plane of the cell.\n",
    "\n",
    "We assume that the structure is 1D, and it may change radically along the propagation direction (valid for cholesterics).\n",
    "Layer thickness has to be set about 1/10 of the wavelength, otherwise calculation of the SHG will not be accurate (wee see this as an violation of energy conservation of the solution). The method uses 4x4 matrix formalism and we compute both the forward propagating field anf the reflected and backward propagating wave. After the computation, we perform energy conservation check, to see if the algorithm has converged.\n",
    "\n",
    "The algorithm works by first obtaining the fundamental beam E field inside the structure.  Then it computes the perturbation of the effective refractive index change caused by the fundamental beam, which induces the SHG field, and propagates the SHG field through the sample. \n",
    "If the intensity of the fundamental beam is expected to deplete during SHG conversion, you need to perform multiple SHG computation runs so that we converge to a valid solution.\n",
    "\n",
    "We have three types of calculations here. One is a multi-wavelength calculation, where one selects a single (x,y) coordinate in the sample and computes SHG for several wavelengths. In another run, we must fix the wavelength and then perform multi-pixel calculation over the whole sample. Finally, you can perform a full computation. Note that in this case, you need to limit the range of wavelengths and the domain size so that the problem can fit into the system memmory.\n",
    "\n",
    "\n"
   ]
  },
  {
   "cell_type": "markdown",
   "id": "4da7189d-d1ca-4a10-9647-7ccbfaa651ce",
   "metadata": {},
   "source": [
    "# Configuration\n",
    "## Imports and non-settable constants"
   ]
  },
  {
   "cell_type": "code",
   "execution_count": 2,
   "id": "8552c1d8-07ca-4d52-8f59-96b2c49266e3",
   "metadata": {},
   "outputs": [],
   "source": [
    "import dtmm2.conf\n",
    "from dtmm2.tmm import alphaffi, alphaf, layer_mat, fmat, system_mat, reflection_mat, reflect, EHz, avec2fvec, poynting, fvec2avec\n",
    "from dtmm2.conf import CDTYPE, FDTYPE\n",
    "from dtmm2.data import matrix2tensor, eps2epsva, chi2array\n",
    "from dtmm2.print_tools import print_progress\n",
    "from dtmm2.linalg import multi_dot, dotmv, dotmf, eig, dotmm, dotchi2v\n",
    "from dtmm2.rotation import rotation_matrix, rotate_vector, rotate_diagonal_tensor, rotate_tensor\n",
    "import matplotlib.pyplot as plt\n",
    "import numpy as np\n",
    "\n",
    "\n",
    "def set_analysis_mode(mode):\n",
    "    \"\"\"Sets analysis mode. Either: \n",
    "         'image' : for image analysis at single wavelength, \n",
    "         'wavelength' :  for wavelength analysis at single pixel\n",
    "         'full' : both image and wavelengths analysis'\n",
    "         \"\"\"\n",
    "    global MODE\n",
    "    if mode.lower() in ('image', 'full', 'wavelength'):\n",
    "        MODE = mode\n",
    "    else:\n",
    "        raise ValueError('Invalid analysis mode')\n",
    "        \n",
    "def polstr(pol):\n",
    "    \"\"\"Returns string representation of the polarization state\"\"\"\n",
    "    x,y = pol\n",
    "    return '({:.2f},{:.2f})'.format(x,y)\n",
    "    \n",
    "# To convert from intensity to internal unitless E field representation, we must normalize with impedance of free space and multiply by 2.\n",
    "# The factor 2 is needed because of the current implementation of the poynting() function in dtmm, which omits 0.5 term in ExH product.\n",
    "# This assures proper creation of the input field amplitude from the requestet intensity in SI units.\n",
    "Z0 = 376.73 * 2"
   ]
  },
  {
   "cell_type": "markdown",
   "id": "844e6171-1d22-40fa-849d-c316ce9f0a2a",
   "metadata": {},
   "source": [
    "## Experimental parameters\n",
    "\n",
    "Main experimental parameters are set here. We use CAPITALCASE for all constants that are meant to be set only once.\n",
    "Any change of constants defined here requires a a complete computation re-run.\n",
    "\n",
    "Our sample is a uniaxial LC material (can also work with biaxial) placed between two identical glass plates. Dimensions of the sample are set in microns. Wave intensity is set in W/m$^2$ and the $\\chi^{(2)}$ tensor is defined using the nonlinear tensor coefficients $d_{i,j}$ in SI units of [V/m]. Note that due to the convension $\\chi^{(2)}_{i,j}  = 2*d_{i,j}$. Care must be taken when creating the $\\chi^{(2)}$ tensor array, as the algorithm does not prevent you to calculate with a non-symmetric tensor. We use the `chi2array` function to construct a valid nonlinear susceptibility tensor. This function inspectes the validity of the input coefficients and constructs a valid symmetric tensor.\n",
    "\n",
    "The $j$ coefficient stands for $j=1\\rightarrow 1,1$, $j=2 \\rightarrow 2,2$, $j=3 \\rightarrow 3,3$, $j=4 \\rightarrow 2,3 = 3,2$, $j=5 \\rightarrow  1,3 = 3,1$, $j=6 \\rightarrow  1,2 = 2,1$.\n",
    "\n",
    "In the configuration step, we first define the computation domain size. Then we define the material dispersion and the director profile."
   ]
  },
  {
   "cell_type": "markdown",
   "id": "3d8c9659-6578-4841-a594-050c5ba294c3",
   "metadata": {},
   "source": [
    "### Computational domain and core parameters\n",
    "\n",
    "Core parameters are here. Please inpect the prints to find possible errors and to inspect whether the model will fit into the memory or not"
   ]
  },
  {
   "cell_type": "code",
   "execution_count": 3,
   "id": "b9acdf8a-a488-4c35-8b0c-c6d660b1d358",
   "metadata": {},
   "outputs": [
    {
     "name": "stdout",
     "output_type": "stream",
     "text": [
      "Domain size:\n",
      "  30 x (40000, 50, 50)\n",
      "\n",
      "Approximate matrices memory:\n",
      " Single-wavelength : 48828.1 MB\n",
      " Single-pixel      : 585.9 MB\n",
      " Full computation  : 1430.51 GB\n",
      "\n",
      "Approximate fields memory:\n",
      " Single-wavelength : 2.0 MB\n",
      " Single-pixel      : 0.0 MB\n",
      " Full computation  : 0.00 GB\n",
      "\n",
      "Sample parameters:\n",
      " Cover glass: n = 1.75\n",
      " Sample thickness: 100000.0 um\n",
      " Sample width: 1000.0 um\n",
      " Sample height: 1000.0 um\n",
      "\n",
      "Chi2 tensor:\n",
      "[[0.00e+00 0.00e+00 0.00e+00 0.00e+00 0.00e+00 0.00e+00]\n",
      " [0.00e+00 0.00e+00 0.00e+00 0.00e+00 0.00e+00 0.00e+00]\n",
      " [0.00e+00 0.00e+00 2.24e-10 0.00e+00 0.00e+00 0.00e+00]]\n",
      "\n",
      "Multi-wavelength parameters\n",
      " Wavelength range: 1200.0 - 1800.0 nm\n",
      " Intensity range: 1000000.0 - 1000000.0 W/m2\n",
      " Number of waves: 30\n",
      "\n",
      "Single-wavelength parameters\n",
      " Wavelength: 800 nm\n",
      " Intensity: 1000000.0 W/m2\n",
      "\n",
      "Polarizations\n",
      "[(1.0, 0.0), (6.123233995736766e-17, 1.0)]\n",
      "\n",
      "Calculation parameters\n",
      " Step size: 2500.0 nm\n"
     ]
    }
   ],
   "source": [
    "# User constants and configuraion\n",
    "# ///////////////////////////////\n",
    "set_analysis_mode('wavelength') #'image' , 'wavelength' or 'full'\n",
    "\n",
    "dtmm2.conf.set_verbose(2) # for progress bar\n",
    "# data sampling shape, choose wisely\n",
    "\n",
    "SHAPE = (40000,50,50) # data shape (n layers, n pixels height, n pixels width)\n",
    "# which polarization states of input light we compute for.\n",
    "POLARIZATIONS = [(np.cos(p), np.sin(p)) for p in [0, np.pi/2]]\n",
    "# wavelength used for single-wavelength calculation\n",
    "WAVELENGTH = 800\n",
    "# intensity used for single-wavelength calculation\n",
    "INTENSITY = 1e6\n",
    "# wave propagation parameter for single-wavelength calculation\n",
    "BETA = 0 # see dtmm documentation on this, the beta parameter n*sin(theta)\n",
    "# The phi angle of the wave, only matters if BETA != 0\n",
    "PHI = 0 \n",
    "# wavelength range for the multi-wavelength calculation\n",
    "WAVELENGTHS = np.linspace(1200,1800,30) # nm\n",
    "# wave intensity for each of the waves of the multi-wavelength calculation.\n",
    "INTENSITIES = [INTENSITY]*len(WAVELENGTHS)\n",
    "# wave beta parameter for each of the waves of the multi-wavelength calculation.\n",
    "BETAS = [BETA]*len(WAVELENGTHS) \n",
    "# wave phi parameter for each of the waves of the multi-wavelength calculation.\n",
    "PHIS = [PHI]*len(WAVELENGTHS) \n",
    "\n",
    "D33 = 5.6e-12 * 20\n",
    "\n",
    "# the chi2 tensor \n",
    "CHI2 = chi2array(d33 = D33, d13 = 0)\n",
    "# sample thickness\n",
    "THICKNESS = 100000. # microns\n",
    "# imaged region \n",
    "WIDTH = 1000. # microns\n",
    "HEIGHT = 1000. # microns\n",
    "\n",
    "\n",
    "# cover/substrate glass refractive index\n",
    "NCOVER = 1.75\n",
    "\n",
    "# !!!!!!!!!!!!!!!!!!!!!!!!!!!!!!!!!!!!!!!!!!!!!!\n",
    "# STOP! Computed constants, Do not set manually!\n",
    "# //////////////////////////////////////////////\n",
    "\n",
    "STEPSIZE = THICKNESS/SHAPE[0]*1000\n",
    "# unitless wave number of fundamental and shg waves. Do not set manually!\n",
    "K01 = 2*np.pi/WAVELENGTH * STEPSIZE\n",
    "# SHG wave\n",
    "K02 = 2* K01\n",
    "\n",
    "K01S = 2*np.pi/WAVELENGTHS * STEPSIZE\n",
    "# SHG wave\n",
    "K02S = 2* K01S\n",
    "\n",
    "# epsilon and euler angles for the cover glass\n",
    "EPSILON0 = np.ones((3,)) * NCOVER **2\n",
    "ANGLES0 = np.zeros((3,)) \n",
    "\n",
    "# matrices size in MB for single-wavelength run\n",
    "MB_WAVELENGTH = 2* SHAPE[0]*SHAPE[1]*SHAPE[2]*4*4/1024/1024 * np.dtype(CDTYPE).itemsize \n",
    "# matrices size in MB for single-pixel run\n",
    "MB_PIXEL = 2* len(WAVELENGTHS) * SHAPE[0]*4*4/1024/1024 * np.dtype(CDTYPE).itemsize \n",
    "# required memroy size for full computation\n",
    "GB_FULL = 2*len(WAVELENGTHS)* SHAPE[0]*SHAPE[1]*SHAPE[2]*4*4/1024/1024/1024 * np.dtype(CDTYPE).itemsize \n",
    "\n",
    "# matrices size in MB for single-wavelength run\n",
    "MB_WAVELENGTH_F = len(POLARIZATIONS)*MB_WAVELENGTH//SHAPE[0]\n",
    "# matrices size in MB for single-pixel run\n",
    "MB_PIXEL_F = len(POLARIZATIONS)*MB_PIXEL//SHAPE[0]\n",
    "# required memroy size for full computation\n",
    "GB_FULL_F = len(POLARIZATIONS)*GB_FULL//SHAPE[0]\n",
    "\n",
    "def print_model_info():\n",
    "    print(\"Domain size:\")\n",
    "    print(f'  {len(WAVELENGTHS)} x {SHAPE}')\n",
    "    print()\n",
    "    print('Approximate matrices memory:')\n",
    "    print(' Single-wavelength : {:.1f} MB'.format(MB_WAVELENGTH))\n",
    "    print(' Single-pixel      : {:.1f} MB'.format(MB_PIXEL))\n",
    "    print(' Full computation  : {:.2f} GB'.format(GB_FULL))\n",
    "    print()\n",
    "    print('Approximate fields memory:')\n",
    "    print(' Single-wavelength : {:.1f} MB'.format(MB_WAVELENGTH_F))\n",
    "    print(' Single-pixel      : {:.1f} MB'.format(MB_PIXEL_F))\n",
    "    print(' Full computation  : {:.2f} GB'.format(GB_FULL_F))\n",
    "    print()\n",
    "    print('Sample parameters:')\n",
    "    print(f' Cover glass: n = {NCOVER}')\n",
    "    print(f' Sample thickness: {THICKNESS} um')\n",
    "    print(f' Sample width: {WIDTH} um')\n",
    "    print(f' Sample height: {HEIGHT} um')\n",
    "    print()\n",
    "    print('Chi2 tensor:')\n",
    "    print(CHI2)\n",
    "    print()\n",
    "    print('Multi-wavelength parameters')\n",
    "    print(' Wavelength range: {:.1f} - {:.1f} nm'.format(min(WAVELENGTHS), max(WAVELENGTHS)))\n",
    "    print(' Intensity range: {:.1f} - {:.1f} W/m2'.format(min(INTENSITIES), max(INTENSITIES)))\n",
    "    print(' Number of waves: {}'.format(len(WAVELENGTHS)))\n",
    "    print()\n",
    "    print('Single-wavelength parameters')\n",
    "    print(f' Wavelength: {WAVELENGTH} nm' )\n",
    "    print(f' Intensity: {INTENSITY} W/m2' )\n",
    "    print()\n",
    "    print('Polarizations')\n",
    "    print(POLARIZATIONS)\n",
    "    print()\n",
    "    print('Calculation parameters')\n",
    "    print(f' Step size: {STEPSIZE} nm')\n",
    "\n",
    "\n",
    "print_model_info()\n"
   ]
  },
  {
   "cell_type": "markdown",
   "id": "cd9874f3-7f4a-48c0-8bce-f40c758dad20",
   "metadata": {},
   "source": [
    "### Refractive index dispersion\n",
    "\n",
    "We define the dispersion of the ordinary and extraordinary refractive indices as a function and plot the fundamental and SHG wave refractive indices. Note that we define no and ne and then map these to n1, n2 and n3. This is because the algorithm also works for biaxial case and therefore expects functions n1,n2,n3 as input."
   ]
  },
  {
   "cell_type": "code",
   "execution_count": 4,
   "id": "aa32ed25-9043-45ad-94ca-918a6c8e8f96",
   "metadata": {},
   "outputs": [
    {
     "data": {
      "image/png": "[encoded data removed]",
      "text/plain": [
       "<Figure size 432x288 with 4 Axes>"
      ]
     },
     "metadata": {
      "needs_background": "light"
     },
     "output_type": "display_data"
    }
   ],
   "source": [
    "def ne(wavelength):\n",
    "    return 1.8447 + 24151/(wavelength**2)\n",
    "\n",
    "def no(wavelength):\n",
    "    return 1.6347 + 24151/(wavelength**2)\n",
    "\n",
    "def ne(wavelength):\n",
    "    return 1.7 + 3/(wavelength**2)\n",
    "\n",
    "def no(wavelength):\n",
    "    return 1.5 + 3/(wavelength**2)\n",
    "\n",
    "\n",
    "    \n",
    "# we need to map to n1,n2,n3\n",
    "n1 = no \n",
    "n2 = no \n",
    "n3 = ne \n",
    "\n",
    "# plot for visual inspection\n",
    "\n",
    "fix, ax1 = plt.subplots(1)\n",
    "axd1 = ax1.twinx()\n",
    "\n",
    "plt.ylabel(r'$\\delta n$')\n",
    "ax2 = ax1.twiny()\n",
    "axd2 = axd1.twiny()\n",
    "\n",
    "l1 = ax1.plot(WAVELENGTHS, no(WAVELENGTHS), label = '$n_o(\\omega)$')\n",
    "l2 = ax1.plot(WAVELENGTHS, ne(WAVELENGTHS), label = '$n_e(\\omega)$')\n",
    "\n",
    "ax1.set_xlabel('Wavelength [nm]')\n",
    "ax1.set_ylabel('n')\n",
    "\n",
    "axd1.plot(WAVELENGTHS, ne(WAVELENGTHS) - no(WAVELENGTHS), 'k', label =r'$\\delta n$')\n",
    "\n",
    "l3 = ax2.plot(WAVELENGTHS/2, no(WAVELENGTHS/2), '--', label = '$n_o(2\\omega)$')\n",
    "l4 = ax2.plot(WAVELENGTHS/2, ne(WAVELENGTHS/2), '--',label = '$n_e(2\\omega)$')\n",
    "\n",
    "axd2.plot(WAVELENGTHS/2, ne(WAVELENGTHS/2) - no(WAVELENGTHS/2), 'k--')\n",
    "\n",
    "\n",
    "ls = l1 + l2 + l3 + l4\n",
    "lbls = [l.get_label() for l in ls]\n",
    "plt.legend(ls, lbls)\n",
    "plt.show()\n"
   ]
  },
  {
   "cell_type": "markdown",
   "id": "f6502df2-a9d4-4c53-88ad-7c0f4f56413a",
   "metadata": {},
   "source": [
    "### Director orientation\n",
    "\n",
    "Here we define the three Euler angles $\\psi,\\theta,\\phi$ as parametric functions that define the orientation of the eigenframe in the given voxel defined by a coordinate (x,y,z). The functions take a numpy array coordinates x,y,z and must return a new array of same shape and type. Then the program automatically build the required material Euler angles array used for calculation. \n",
    "\n",
    "We also define the three angles for a single-pixel run.\n",
    "\n",
    "In case of uniaxial LC, you must set the $\\theta$ and $\\phi$ angles which correspond to the orientation of the director with respect to the laboratory coordinate frame. $\\theta = 0$ is along the $z$ axis, $\\theta = pi/2$ and $\\phi=0$ is along the $x$ axis. \n",
    "\n"
   ]
  },
  {
   "cell_type": "code",
   "execution_count": 5,
   "id": "4b9c7e82-c904-450f-9d90-f7c6ce6c8381",
   "metadata": {},
   "outputs": [
    {
     "name": "stdout",
     "output_type": "stream",
     "text": [
      "Single-wave parameters\n",
      " Psi range:   0.000 - 0.000 rad\n",
      " Theta range: 0.000 - 1.571 rad\n",
      " Phi range:   0.000 - 1.571 rad\n",
      "\n",
      "Multi-wavelength parameters\n",
      " Psi range:   0.000 - 0.000 rad\n",
      " Theta range: 1.571 - 1.571 rad\n",
      " Phi range:   0.000 - 0.000 rad\n",
      " I index : 0\n",
      " J index : 0\n"
     ]
    },
    {
     "data": {
      "text/plain": [
       "<matplotlib.colorbar.Colorbar at 0x7fdcd647ca30>"
      ]
     },
     "execution_count": 5,
     "metadata": {},
     "output_type": "execute_result"
    },
    {
     "data": {
      "image/png": "[encoded data removed]",
      "text/plain": [
       "<Figure size 432x288 with 1 Axes>"
      ]
     },
     "metadata": {
      "needs_background": "light"
     },
     "output_type": "display_data"
    },
    {
     "data": {
      "image/png": "[encoded data removed]",
      "text/plain": [
       "<Figure size 432x288 with 2 Axes>"
      ]
     },
     "metadata": {
      "needs_background": "light"
     },
     "output_type": "display_data"
    },
    {
     "data": {
      "image/png": "[encoded data removed]",
      "text/plain": [
       "<Figure size 432x288 with 2 Axes>"
      ]
     },
     "metadata": {
      "needs_background": "light"
     },
     "output_type": "display_data"
    }
   ],
   "source": [
    "I = 0 # height index for single-pixel run\n",
    "J = 0 # width index for single-pixel run\n",
    "\n",
    "N = 30 # layer index for plotting\n",
    "\n",
    "ROTATION = np.pi/2 # max rotation of the director along x\n",
    "TILT = np.pi/2 # max tilt angle of the director along y\n",
    "\n",
    "def psi(x,y,z):\n",
    "    return 0 # For uniaxial set to zero or any value\n",
    "    \n",
    "def theta(x,y,z):\n",
    "    return TILT - y/HEIGHT * TILT\n",
    "\n",
    "def phi(x,y,z):\n",
    "    return  x/WIDTH * ROTATION\n",
    "\n",
    "# computed parameters. Do not change these!\n",
    "#//////////////////////////////////////////\n",
    "\n",
    "z = np.linspace(0,THICKNESS, SHAPE[0])\n",
    "y = np.linspace(0,HEIGHT, SHAPE[1])\n",
    "x = np.linspace(0,WIDTH, SHAPE[2])\n",
    "\n",
    "#we use ij indexing in dtmm, the first axis is (i = z), then height (j = y), then width (k = x)\n",
    "zz,yy,xx = np.meshgrid(z,y,x, indexing = 'ij')\n",
    "\n",
    "ANGLES = np.zeros(SHAPE+(3,))\n",
    "ANGLES[...,1] = theta(xx,yy,zz)\n",
    "ANGLES[...,2] = phi(xx,yy,zz)\n",
    "\n",
    "def print_director_info():\n",
    "    print('Single-wave parameters')\n",
    "    print(' Psi range:   {:.3f} - {:.3f} rad'.format(ANGLES[...,0].min(), ANGLES[...,0].max()))\n",
    "    print(' Theta range: {:.3f} - {:.3f} rad'.format(ANGLES[...,1].min(), ANGLES[...,1].max()))\n",
    "    print(' Phi range:   {:.3f} - {:.3f} rad'.format(ANGLES[...,2].min(), ANGLES[...,2].max()))\n",
    "    print()\n",
    "    print('Multi-wavelength parameters')\n",
    "    print(' Psi range:   {:.3f} - {:.3f} rad'.format(ANGLES[...,I,J,0].min(), ANGLES[...,I,J,0].max()))\n",
    "    print(' Theta range: {:.3f} - {:.3f} rad'.format(ANGLES[...,I,J,1].min(), ANGLES[...,I,J,1].max()))\n",
    "    print(' Phi range:   {:.3f} - {:.3f} rad'.format(ANGLES[...,I,J,2].min(), ANGLES[...,I,J,2].max()))\n",
    "    print(f' I index : {I}' )\n",
    "    print(f' J index : {J}' )\n",
    "    \n",
    "print_director_info()\n",
    "\n",
    "# We plot angles with modulo 2 pi\n",
    "pi2 = 2*np.pi\n",
    "\n",
    "fig = plt.figure()\n",
    "plt.plot(z, ANGLES[:,I,J,0]%pi2,'o',label = r'$\\psi$')\n",
    "plt.plot(z, ANGLES[:,I,J,1]%pi2,'o',label = r'$\\theta$')\n",
    "plt.plot(z, ANGLES[:,I,J,2]%pi2,'o',label = r'$\\phi$')\n",
    "plt.xlabel('z [um]')\n",
    "plt.title(r'Euler angles @ (:,{},{}) ; x = {:.1f} um, y = {:.1f} um'.format(I,J,xx[N,I,J], yy[N,I,J]))\n",
    "plt.legend()\n",
    "\n",
    "fig = plt.figure()\n",
    "im1 = plt.imshow(ANGLES[N,:,:,1]%pi2, origin = 'lower', extent = (0,HEIGHT, 0, WIDTH))\n",
    "plt.title(r'Theta @ N = {}; z = {:.1f} um'.format(N, z[N]))\n",
    "fig.colorbar(im1)\n",
    "plt.xlabel('x [um]')\n",
    "plt.ylabel('y [um]')\n",
    "\n",
    "fig = plt.figure()\n",
    "im2 = plt.imshow(ANGLES[N,:,:,2]%pi2, origin = 'lower', extent = (0,HEIGHT, 0, WIDTH))\n",
    "plt.xlabel('x [um]')\n",
    "plt.ylabel('y [um]')\n",
    "plt.title(r'Phi @ N = {}; z = {:.1f} um'.format(N, z[N]))\n",
    "fig.colorbar(im2)"
   ]
  },
  {
   "cell_type": "markdown",
   "id": "2bd1b429-c6ae-4a8d-bb00-d39c048aeb80",
   "metadata": {},
   "source": [
    "# Calculation\n",
    "\n",
    "## Data Initialization\n",
    "\n",
    "In the initialization step we construct the epsilon tensor, field amplitudes and take care of broadcasting. Depending on the selected analysis mode, the output data is of different shape. See the analysis section for details."
   ]
  },
  {
   "cell_type": "code",
   "execution_count": 6,
   "id": "b0f1f681-201d-4655-98b2-61f7646a5ae0",
   "metadata": {},
   "outputs": [
    {
     "name": "stdout",
     "output_type": "stream",
     "text": [
      "Initializing for \"wavelength\" mode.\n"
     ]
    }
   ],
   "source": [
    "#set_analysis_mode('wavelength')\n",
    "\n",
    "print(f'Initializing for \"{MODE}\" mode.')\n",
    "    \n",
    "if MODE == 'wavelength':\n",
    "    \n",
    "    jones = np.asarray(POLARIZATIONS)[:,None,:] \n",
    "    intensities = np.asarray(INTENSITIES)[None,:]\n",
    "    \n",
    "    f01 = fmat(BETA, PHI, EPSILON0[None,:], ANGLES0[None,:])\n",
    "    f02 = fmat(BETA, PHI, EPSILON0[None,:], ANGLES0[None,:])\n",
    "        \n",
    "    # Jones vector representation of the fundamental input beam in unitless amplitude notation.\n",
    "    ampl = np.zeros((len(POLARIZATIONS),len(WAVELENGTHS), 4), dtype = CDTYPE)\n",
    "    ampl[...,0] = jones[...,0] * (intensities*Z0)**0.5\n",
    "    ampl[...,2] = jones[...,1] * (intensities*Z0)**0.5\n",
    "    \n",
    "    \n",
    "    # epsilon tensors of fundamental and shg waves\n",
    "    # we use numpy broadcasting rules here, so we add two empty axes  to match the angles array shape\n",
    "    epsilon1 = np.zeros((SHAPE[0],len(WAVELENGTHS),6))\n",
    "    epsilon1[...,0] = n1(WAVELENGTHS)**2\n",
    "    epsilon1[...,1] = n2(WAVELENGTHS)**2\n",
    "    epsilon1[...,2] = n3(WAVELENGTHS)**2\n",
    "    \n",
    "    epsilon2 = np.zeros((SHAPE[0],len(WAVELENGTHS),6))\n",
    "    epsilon2[...,0] = n1(WAVELENGTHS/2)**2\n",
    "    epsilon2[...,1] = n2(WAVELENGTHS/2)**2\n",
    "    epsilon2[...,2] = n3(WAVELENGTHS/2)**2\n",
    "    \n",
    "    angles = np.ones((SHAPE[0],1,3)) \n",
    "    angles[:,0] = ANGLES[:,I,J]\n",
    "    \n",
    "    # normalized layer thickness of fundamental and shg waves\n",
    "    kds1 = np.array((K01S,)* SHAPE[0])\n",
    "    kds2 = np.array((K02S,)* SHAPE[0])\n",
    "\n",
    "    E = np.empty((len(POLARIZATIONS),len(WAVELENGTHS),3), dtype = CDTYPE)\n",
    "\n",
    "\n",
    "elif MODE == 'image':\n",
    "\n",
    "    jones = np.asarray(POLARIZATIONS) \n",
    "    jones = jones[:,None,None,:] #add dummy axes for broadcasting\n",
    "    \n",
    "    f01 = fmat(BETA, PHI, EPSILON0[None,None,:], ANGLES0[None,None,:])\n",
    "    f02 = fmat(BETA, PHI, EPSILON0[None,None,:], ANGLES0[None,None,:])\n",
    "        \n",
    "    # Jones vector representation of the fundamental input beam in unitless amplitude notation.\n",
    "    ampl = np.zeros((len(POLARIZATIONS),SHAPE[1],SHAPE[2], 4), dtype = CDTYPE)\n",
    "    ampl[...,0] = jones[...,0] * (INTENSITY*Z0)**0.5\n",
    "    ampl[...,2] = jones[...,1] * (INTENSITY*Z0)**0.5\n",
    "    \n",
    "    \n",
    "    # epsilon tensors of fundamental and shg waves\n",
    "    # we use numpy broadcasting rules here, so we add two empty axes  to match the angles array shape\n",
    "    epsilon1 = np.zeros((SHAPE[0],1,1,6))\n",
    "    epsilon1[...,0] = n1(WAVELENGTH)**2\n",
    "    epsilon1[...,1] = n2(WAVELENGTH)**2\n",
    "    epsilon1[...,2] = n3(WAVELENGTH)**2\n",
    "    \n",
    "    epsilon2 = np.zeros((SHAPE[0],1,1,6))\n",
    "    epsilon2[...,0] = n1(WAVELENGTH/2)**2\n",
    "    epsilon2[...,1] = n2(WAVELENGTH/2)**2\n",
    "    epsilon2[...,2] = n3(WAVELENGTH/2)**2\n",
    "    \n",
    "    # normalized layer thickness of fundamental and shg waves\n",
    "    kds1 = np.array((K01,)* SHAPE[0])[:,None,None]\n",
    "    kds2 = np.array((K02,)* SHAPE[0])[:,None,None]\n",
    "\n",
    "    angles = ANGLES\n",
    "\n",
    "    intensities = INTENSITY\n",
    "\n",
    "    \n",
    "    E = np.empty((len(POLARIZATIONS),SHAPE[1],SHAPE[2],3), dtype = CDTYPE)\n",
    "\n",
    "\n",
    "elif MODE == 'full':\n",
    "    jones = np.asarray(POLARIZATIONS) #must be a normalized jones vector! \n",
    "    jones = jones[:,None,None,None,:] #add dummy axes for broadcasting\n",
    "    \n",
    "    f01 = fmat(BETA, PHI, EPSILON0[None,None,None,None,:], ANGLES0[None,None,None,None,:])\n",
    "    f02 = fmat(BETA, PHI, EPSILON0[None,None,None,None,:], ANGLES0[None,None,None,None,:])\n",
    "    \n",
    "    intensities = np.asarray(INTENSITIES)[None,:,None,None]\n",
    "\n",
    "    \n",
    "    # Jones vector representation of the fundamental input beam in unitless amplitude notation.\n",
    "    ampl = np.zeros((len(POLARIZATIONS),len(WAVELENGTHS), SHAPE[1],SHAPE[2], 4), dtype = CDTYPE)\n",
    "    ampl[...,0] = jones[...,0] * (intensities*Z0)**0.5\n",
    "    ampl[...,2] = jones[...,1] * (intensities*Z0)**0.5\n",
    "    \n",
    "    # epsilon tensors of fundamental and shg waves\n",
    "    # we use numpy broadcasting rules here, so we add two empty axes  to match the angles array shape\n",
    "    epsilon1 = np.zeros((SHAPE[0],1,1,1,6))\n",
    "    epsilon1[...,0] = n1(WAVELENGTH)**2\n",
    "    epsilon1[...,1] = n2(WAVELENGTH)**2\n",
    "    epsilon1[...,2] = n3(WAVELENGTH)**2\n",
    "    \n",
    "    epsilon2 = np.zeros((SHAPE[0],1,1,6))\n",
    "    epsilon2[...,0] = n1(WAVELENGTH/2)**2\n",
    "    epsilon2[...,1] = n2(WAVELENGTH/2)**2\n",
    "    epsilon2[...,2] = n3(WAVELENGTH/2)**2\n",
    "    \n",
    "    # normalized layer thickness of fundamental and shg waves\n",
    "    kds1 = np.array((K01S,)* SHAPE[0])[:,None,:,None,None]\n",
    "    kds2 = np.array((K02S,)* SHAPE[0])[:,None,:,None,None]\n",
    "\n",
    "    angles = ANGLES\n",
    "\n",
    "    E = np.empty((len(POLARIZATIONS),len(WAVELENGTHS),SHAPE[1],SHAPE[2],3), dtype = CDTYPE)\n",
    "\n",
    "\n",
    "else:\n",
    "    raise ValueError(f'Unknown mode {MODE}')"
   ]
  },
  {
   "cell_type": "markdown",
   "id": "b9f0cd98-8f92-4c72-aad7-586edef07a27",
   "metadata": {},
   "source": [
    "## Fundamental wave\n",
    "\n",
    "First, one has to compute the fundamental mode. We use the 4x4 matrix formalism to build the matrices, compute the total transfer matrix, the reflection matrices and the output field. The computed ouptut field serves as an input for the SHG calculation step. Pay attention to the 'Intensity relative loss standard deviation' calculated at the end, which should be a really small number. It is a measure of energy conservation violation. In nonabsorbing samples it should be close to zero. "
   ]
  },
  {
   "cell_type": "code",
   "execution_count": 7,
   "id": "cc59b620-bb6a-4a48-bcf0-5281ad0da702",
   "metadata": {},
   "outputs": [
    {
     "name": "stdout",
     "output_type": "stream",
     "text": [
      "Building layer matrices of the fundamental wave\n",
      "Building layer matrices of the shg wave\n",
      "Calculating stack matrices\n",
      "Calculating system matrices\n",
      "Calculating reflection matrices\n",
      "Transferring fundamental field\n",
      "Done!\n",
      "\n",
      "Intensity relative loss standard deviation 1.4626400601142516e-11\n"
     ]
    }
   ],
   "source": [
    "print('Building layer matrices of the fundamental wave')\n",
    "# we propagate backward and only half step so that we can access mid-plane \n",
    "matrices1 = [layer_mat(-kds1[i]/2, epsilon1[i],angles[i], BETA,PHI) for i in range(SHAPE[0])]\n",
    "print('Building layer matrices of the shg wave')\n",
    "matrices2 = [layer_mat(-kds2[i]/2, epsilon2[i],angles[i], BETA,PHI) for i in range(SHAPE[0])]\n",
    "print('Calculating stack matrices')\n",
    "# we apply each matrix twice because these are half-layer matrices\n",
    "stack_matrix1 = multi_dot((dotmm(m,m) for m in matrices1))\n",
    "stack_matrix2 = multi_dot((dotmm(m,m)  for m in matrices2))\n",
    "print('Calculating system matrices')\n",
    "smat1 = system_mat(stack_matrix1, f01,f01)\n",
    "smat2 = system_mat(stack_matrix2, f02,f02)\n",
    "print('Calculating reflection matrices')\n",
    "rmat1 = reflection_mat(smat1,'backward')\n",
    "rmat2 = reflection_mat(smat2,'backward')\n",
    "\n",
    "print('Transferring fundamental field')\n",
    "# convert from amplitude coefficients to EH field vector\n",
    "field1_in = avec2fvec(ampl,f01)\n",
    "field2_in = np.zeros_like(field1_in)\n",
    "\n",
    "# compute output field, also modifies the input field to add reflected part\n",
    "field1_out = reflect(field1_in, rmat1,fmatin = f01, fmatout = f01)\n",
    "field2_out = reflect(field2_in, rmat2,fmatin = f02, fmatout = f02)\n",
    "\n",
    "# convert to amplitude coefficients\n",
    "ampl1_in = fvec2avec(field1_in,f01)\n",
    "ampl1_out = fvec2avec(field1_out,f01)\n",
    "\n",
    "# reflected field intensity\n",
    "intensity1r = np.abs(ampl1_in[...,1])**2 + np.abs(ampl1_in[...,3])**2\n",
    "intensity1r/=Z0\n",
    "\n",
    "# transmitted field intensity\n",
    "intensity1t = np.abs(ampl1_out[...,0])**2 + np.abs(ampl1_out[...,2])**2\n",
    "intensity1t/=Z0\n",
    "\n",
    "# this should be zero except for a small numerical error.\n",
    "loss = (intensity1t+intensity1r - intensities)/intensities\n",
    "\n",
    "#plt.imshow(loss[0,0], origin = 'lower',cmap = 'gray')#, vmin = 0, vmax = INTENSITY)\n",
    "#plt.title('Total intensity relative loss')\n",
    "#plt.colorbar()\n",
    "print('Done!')\n",
    "print()\n",
    "print('Intensity relative loss standard deviation', loss.std())"
   ]
  },
  {
   "cell_type": "markdown",
   "id": "58028458-18d1-4994-bcd4-a5359ed53b4b",
   "metadata": {},
   "source": [
    "## SHG wave \n",
    "\n",
    "Once the fundamental field was calculated, you can run the SHG calculation step. It takes the ouptut field and propagates it back through the sample, creating SHG field. If depletion of the fundamental beam is not weak one should perform multiple SHG compuation steps. Each time we run this, we start with the fields computed from the previous run. "
   ]
  },
  {
   "cell_type": "code",
   "execution_count": 13,
   "id": "f10d0803-e031-46f3-837e-3aac42f48a39",
   "metadata": {},
   "outputs": [
    {
     "name": "stdout",
     "output_type": "stream",
     "text": [
      "Computing SHG field (run 1/3)...\n",
      " |==================================================| 100.0% \n",
      "Intensity relative loss std 0.0004229058160658479\n",
      "Computing SHG field (run 2/3)...\n",
      " |==================================================| 100.0% \n",
      "Intensity relative loss std 0.00020201486730850714\n",
      "Computing SHG field (run 3/3)...\n",
      " |==================================================| 100.0% \n",
      "Intensity relative loss std 9.269391709828741e-05\n",
      "Done!\n"
     ]
    }
   ],
   "source": [
    "NRUNS =3\n",
    "\n",
    "for run in range(NRUNS):\n",
    "    print(f'Computing SHG field (run {run+1}/{NRUNS})...')\n",
    "    \n",
    "    field1 = field1_out.copy()\n",
    "    field2 = field2_out.copy()\n",
    "    \n",
    "    gain1 = np.zeros_like(field1)\n",
    "    gain2 = np.zeros_like(field2)\n",
    "    \n",
    "\n",
    "    for p,i in enumerate(reversed(range(SHAPE[0]))):\n",
    "        print_progress(p,SHAPE[0])\n",
    "\n",
    "        lmat2_ref = matrices2[i]\n",
    "        lmat1_ref = matrices1[i]\n",
    "\n",
    "        # propagate both fields to mid plane\n",
    "        field1h = dotmv(lmat1_ref,field1)\n",
    "        field2h = dotmv(lmat2_ref,field2)\n",
    "\n",
    "        #field1h+=field2h\n",
    "        \n",
    "        # obtain E vector\n",
    "        E[...,0] = field1h[...,0]\n",
    "        E[...,1] = field1h[...,1]\n",
    "        EH = EHz(field1h,BETA,PHI, epsilon1[i], angles[i])   \n",
    "        E[...,2] = EH[...,0]\n",
    "\n",
    "        #obtain rotation matrix \n",
    "        r = rotation_matrix(angles[i])\n",
    "        rT = np.swapaxes(r,-1,-2)\n",
    "        # rotate field to eigenframe        \n",
    "        E = rotate_vector(rT, E)\n",
    "        \n",
    "        # compute nl susceptibility tensor\n",
    "        chi2_eff = matrix2tensor(dotchi2v(CHI2,E))\n",
    "\n",
    "        # add perturbation to epsilon tensor of the SH wavlength\n",
    "        epsilon_nl = epsilon2[i] + chi2_eff \n",
    "        #epsilon_nl = epsilon1[i] + chi2_eff \n",
    "        # compute perturbed layer matrix\n",
    "        lmat2 = layer_mat(-kds2[i]/2, epsilon_nl  ,angles[i])\n",
    "        #lmat2 = layer_mat(-kds1[i]/2, epsilon_nl  ,angles[i])\n",
    "\n",
    "        # propagate reference field and perturbed fields\n",
    "        field_ref2 = dotmv(lmat2_ref, field1h)\n",
    "        #field_ref2 = dotmv(lmat1_ref, field1h)\n",
    "        field_nlo2 = dotmv(lmat2, field1h)\n",
    "\n",
    "        # difference is the excited SHG field. Times 2 \n",
    "        dif2 = (field_nlo2 - field_ref2)\n",
    "    \n",
    "        E[...,0] = field1h[...,0]#.conj()\n",
    "        E[...,1] = field1h[...,1]#.conj()\n",
    "        EH = EHz(field1h,BETA,PHI, epsilon1[i], angles[i])   \n",
    "        E[...,2] = EH[...,0]\n",
    "        \n",
    "        # rotate field to eigenframe        \n",
    "        E = rotate_vector(rT, E)\n",
    "    \n",
    "        chi2_eff = matrix2tensor(dotchi2v(CHI2,E.conj()))\n",
    "    \n",
    "        epsilon_nl = epsilon1[i] +  chi2_eff \n",
    "    \n",
    "        lmat1 = layer_mat(-kds1[i]/2, epsilon_nl  ,angles[i])\n",
    "        #lmat1 = layer_mat(-kds2[i]/2, epsilon_nl  ,angles[i])\n",
    "        #lmat1s = layer_mat(kds1[i]/2, epsilon1[i]  ,angles[i])         \n",
    "        field_ref1 = dotmv(lmat1_ref, field2h)\n",
    "        #field_ref1 = dotmv(lmat2_ref, field2h)\n",
    "        field_nlo1 = dotmv(lmat1, field2h)\n",
    "        \n",
    "        dif1 = (field_nlo1 - field_ref1)*2\n",
    "\n",
    "        #dif2 = dotmv(lmat2_ref, dif2)\n",
    "        #dif1 = dotmv(lmat1_ref, dif1)\n",
    "\n",
    "        #dif1 = dif1.conj()\n",
    "        lmat2_ref = dotmm(lmat2_ref,lmat2_ref)\n",
    "        lmat1_ref = dotmm(lmat1_ref,lmat1_ref)\n",
    "        \n",
    "        gain1 = dotmv(lmat1_ref, gain1)\n",
    "        gain2 = dotmv(lmat2_ref, gain2)\n",
    "        \n",
    "        field1 = dotmv(lmat1_ref, field1)\n",
    "        field2 = dotmv(lmat2_ref, field2)\n",
    "    \n",
    "        gain1 += dif1\n",
    "        field1 += dif1\n",
    "        \n",
    "        gain2 += dif2\n",
    "        field2 += dif2\n",
    "    print_progress(SHAPE[0],SHAPE[0])\n",
    "    \n",
    "\n",
    "    field2_out = reflect(field2_in, rmat2, fmatin = f02, fmatout = f02, gvecin = gain2)\n",
    "    field1_out = reflect(field1_in, rmat1, fmatin = f01, fmatout = f01, gvecin = gain1)   \n",
    "    \n",
    "    ampl1_in = fvec2avec(field1_in,f01)\n",
    "    ampl1_out = fvec2avec(field1_out,f01)\n",
    "    \n",
    "    intensity1r = np.abs(ampl1_in[...,1])**2 + np.abs(ampl1_in[...,3])**2\n",
    "    intensity1r/=Z0\n",
    "    intensity1t = np.abs(ampl1_out[...,0])**2 + np.abs(ampl1_out[...,2])**2\n",
    "    intensity1t/=Z0\n",
    "    \n",
    "    ampl2_in = fvec2avec(field2_in,f02)\n",
    "    ampl2_out = fvec2avec(field2_out,f02)\n",
    "    \n",
    "    intensity2r = np.abs(ampl2_in[...,1])**2 + np.abs(ampl2_in[...,3])**2\n",
    "    intensity2r/=Z0\n",
    "    intensity2t = np.abs(ampl2_out[...,0])**2 + np.abs(ampl2_out[...,2])**2\n",
    "    intensity2t/=Z0\n",
    "    \n",
    "    total_intensity = intensity1t+intensity1r+intensity2t+intensity2r\n",
    "\n",
    "    loss = (total_intensity - intensities)/intensities\n",
    "    print('Intensity relative loss std', loss.std())\n",
    "\n",
    "#plt.imshow(total_intensity[0,0], origin = 'lower',cmap = 'gray')#, vmin = 0, vmax = INTENSITY)\n",
    "#plt.title('Total intensity It1+It2+Ir1+Ir2')\n",
    "#plt.colorbar()\n",
    "print('Done!')"
   ]
  },
  {
   "cell_type": "code",
   "execution_count": null,
   "id": "edc29ec6-9708-44db-a23a-1a06abfa3410",
   "metadata": {},
   "outputs": [],
   "source": []
  },
  {
   "cell_type": "markdown",
   "id": "c4ebc436-625b-48fe-be1d-ef3f72aff2a4",
   "metadata": {
    "tags": []
   },
   "source": [
    "## Image analysis\n",
    "\n",
    "### Wave intensity"
   ]
  },
  {
   "cell_type": "code",
   "execution_count": 176,
   "id": "44f2afa8-125e-44b1-80ac-5180946bdedf",
   "metadata": {},
   "outputs": [
    {
     "ename": "ZeroDivisionError",
     "evalue": "division by zero",
     "output_type": "error",
     "traceback": [
      "\u001b[0;31m---------------------------------------------------------------------------\u001b[0m",
      "\u001b[0;31mZeroDivisionError\u001b[0m                         Traceback (most recent call last)",
      "Input \u001b[0;32mIn [176]\u001b[0m, in \u001b[0;36m<cell line: 1>\u001b[0;34m()\u001b[0m\n\u001b[1;32m      1\u001b[0m \u001b[38;5;28;01mif\u001b[39;00m MODE \u001b[38;5;241m!=\u001b[39m \u001b[38;5;124m'\u001b[39m\u001b[38;5;124mimage\u001b[39m\u001b[38;5;124m'\u001b[39m:\n\u001b[0;32m----> 2\u001b[0m     \u001b[38;5;241;43m1\u001b[39;49m\u001b[38;5;241;43m/\u001b[39;49m\u001b[38;5;241;43m0\u001b[39;49m\n\u001b[1;32m      4\u001b[0m PINDEX \u001b[38;5;241m=\u001b[39m \u001b[38;5;241m0\u001b[39m\n\u001b[1;32m      6\u001b[0m polname \u001b[38;5;241m=\u001b[39m polstr(POLARIZATIONS[PINDEX])\n",
      "\u001b[0;31mZeroDivisionError\u001b[0m: division by zero"
     ]
    }
   ],
   "source": [
    "if MODE != 'image':\n",
    "    1/0\n",
    "    \n",
    "PINDEX = 0\n",
    "\n",
    "polname = polstr(POLARIZATIONS[PINDEX])\n",
    "extent = []\n",
    "\n",
    "plt.imshow(intensity1r[PINDEX], label = 'R', origin = 'lower',cmap = 'gray')\n",
    "plt.title(f'$R(\\omega_1)$ @ P = {polname}')\n",
    "plt.colorbar()\n",
    "plt.figure()\n",
    "plt.imshow(intensity1t[PINDEX], label = 'T', origin = 'lower',cmap = 'gray')\n",
    "plt.title(f'$T(\\omega_1)$ @ P = {polname}')\n",
    "plt.colorbar()\n",
    "plt.figure()\n",
    "plt.imshow(intensity2r[PINDEX], label = 'R', origin = 'lower',cmap = 'gray')\n",
    "plt.title(f'$R(\\omega_2)$ @ P = {polname}')\n",
    "plt.colorbar()\n",
    "plt.figure()\n",
    "plt.imshow(intensity2t[PINDEX], label = 'T', origin = 'lower',cmap = 'gray')\n",
    "plt.title(f'$T(\\omega_2)$ @ P = {polname}')\n",
    "plt.colorbar()\n",
    "plt.figure()\n",
    "plt.imshow(total_intensity[PINDEX], origin = 'lower',cmap = 'gray')\n",
    "plt.title('Total intensity')\n",
    "plt.colorbar()\n",
    "    "
   ]
  },
  {
   "cell_type": "markdown",
   "id": "6379b377-d4a9-4ecf-81d7-b79e38719be5",
   "metadata": {},
   "source": [
    "## Wavelength analysis"
   ]
  },
  {
   "cell_type": "code",
   "execution_count": 14,
   "id": "7e7f4c47-8d73-4484-aad5-e41ca4260afd",
   "metadata": {},
   "outputs": [
    {
     "data": {
      "text/plain": [
       "<matplotlib.legend.Legend at 0x7fdcf2ec4e80>"
      ]
     },
     "execution_count": 14,
     "metadata": {},
     "output_type": "execute_result"
    },
    {
     "data": {
      "image/png": "[encoded data removed]",
      "text/plain": [
       "<Figure size 432x288 with 1 Axes>"
      ]
     },
     "metadata": {
      "needs_background": "light"
     },
     "output_type": "display_data"
    }
   ],
   "source": [
    "if MODE != 'wavelength':\n",
    "    1/0\n",
    "    \n",
    "PINDEX = 0\n",
    "def theory1(wavelength, intensity):\n",
    "    new = ne(wavelength)\n",
    "    ne2w = ne(wavelength/2)+0.000000001\n",
    "    lamb = wavelength * 1e-9\n",
    "    \n",
    "    deltak = 4 * np.pi * (ne2w- new)/lamb \n",
    "    c = 3e8\n",
    "    eps0 = 8.85e-12\n",
    "\n",
    "    return intensity**2 *32* np.pi**2 * D33**2 / lamb**2 / c/eps0/new**2/ne2w *np.sin(deltak * THICKNESS/2*1e-6)**2/(deltak**2)\n",
    "\n",
    "def theory2(wavelength, intensity):\n",
    "    new = ne(wavelength)\n",
    "    ne2w = ne(wavelength/2) \n",
    "    lamb = wavelength * 1e-9\n",
    "    L = THICKNESS *1e-6\n",
    "    k = 2*np.pi/ lamb\n",
    "    \n",
    "    deltakl = k* (ne2w- new)* L\n",
    "    c = 3e8\n",
    "    eps0 = 8.85e-12\n",
    "\n",
    "    Ew2 = 2*intensity/c/eps0/new\n",
    "\n",
    "    E2w = Ew2**0.5*np.tanh(k*L*D33* Ew2**0.5/ne2w)\n",
    "\n",
    "    return 0.5*eps0*c*ne2w * E2w**2\n",
    "\n",
    "import scipy.special \n",
    "\n",
    "def theory3(wavelength, intensity):\n",
    "    \"\"\"SHG  intensity, general analytical expression with depletion\"\"\"\n",
    "    new = ne(wavelength)\n",
    "    now = no(wavelength)\n",
    "    ne2w = ne(wavelength/2) #+ 0.000000001\n",
    "    no2w = no(wavelength/2) #+ 0.000000001\n",
    "    \n",
    "    lamb = wavelength * 1e-9\n",
    "    L = THICKNESS *1e-6\n",
    "    k = 2*np.pi/ lamb\n",
    "    \n",
    "    deltak = k* (ne2w - new)*2\n",
    "    c = 3e8\n",
    "    eps0 = 8.85e-12\n",
    "\n",
    "    #fact = (eps0*c*ne2w/2/intensity)**0.5 *new*lamb/4/D33\n",
    "    fact = (eps0*c*ne2w/2/intensity)**0.5 *new*lamb/D33/2/np.pi\n",
    "\n",
    "\n",
    "    deltar = fact *deltak\n",
    "\n",
    "    \n",
    "\n",
    "    c = deltar/2*(1+(deltar**2)/16)**0.5\n",
    " \n",
    "    # case low depletion... using taylor expension for a\n",
    "    a =  2/deltar\n",
    "    mask = a > 0.000000001\n",
    "    \n",
    "    # case meaningful depletion, analytic expression for a\n",
    "    a[mask] = (1+(deltar[mask]**2)/8-c[mask])**0.5\n",
    "        \n",
    "    b = (1+(deltar**2)/8+c)**0.5\n",
    "\n",
    "\n",
    "\n",
    "    u = b/fact*L\n",
    "    m = a/b\n",
    "    sn,_,_,_ = scipy.special.ellipj(u, a/b)\n",
    "\n",
    "    return intensity * a**2* sn**2\n",
    "\n",
    "\n",
    "\n",
    "plt.plot((WAVELENGTHS), intensity2t[PINDEX]+intensity2r[PINDEX], label = 'T+R')\n",
    "plt.plot((WAVELENGTHS), intensity2r[PINDEX], label = 'R')\n",
    "plt.plot((WAVELENGTHS), intensity2t[PINDEX], label = 'T')\n",
    "plt.plot(WAVELENGTHS, theory3(WAVELENGTHS,INTENSITY).real, label = 'theory3')\n",
    "plt.plot(WAVELENGTHS, theory1(WAVELENGTHS,INTENSITY), label = 'theory1')\n",
    "plt.plot()\n",
    "\n",
    "\n",
    "plt.ylabel('Intensity [W/m$^2$]')\n",
    "plt.legend()"
   ]
  },
  {
   "cell_type": "code",
   "execution_count": 239,
   "id": "87a8170c-15b2-465a-82d6-ea26542ac6d5",
   "metadata": {},
   "outputs": [
    {
     "data": {
      "text/plain": [
       "<matplotlib.colorbar.Colorbar at 0x14ee9f5e0>"
      ]
     },
     "execution_count": 239,
     "metadata": {},
     "output_type": "execute_result"
    },
    {
     "data": {
      "image/png": "[encoded data removed]",
      "text/plain": [
       "<Figure size 640x480 with 2 Axes>"
      ]
     },
     "metadata": {},
     "output_type": "display_data"
    },
    {
     "data": {
      "image/png": "[encoded data removed]",
      "text/plain": [
       "<Figure size 640x480 with 2 Axes>"
      ]
     },
     "metadata": {},
     "output_type": "display_data"
    },
    {
     "data": {
      "image/png": "[encoded data removed]",
      "text/plain": [
       "<Figure size 640x480 with 2 Axes>"
      ]
     },
     "metadata": {},
     "output_type": "display_data"
    }
   ],
   "source": [
    "if MODE != 'full':\n",
    "    1/0\n",
    "    \n",
    "PINDEX = 0\n",
    "plt.imshow(intensity2r[PINDEX,0], label = 'R', origin = 'lower',cmap = 'gray')\n",
    "plt.colorbar()\n",
    "plt.figure()\n",
    "plt.imshow(intensity2t[PINDEX,0], label = 'T', origin = 'lower',cmap = 'gray')\n",
    "plt.colorbar()\n",
    "plt.figure()\n",
    "plt.imshow(intensity2t[PINDEX,0]+intensity2r[PINDEX,0], origin = 'lower',cmap = 'gray')\n",
    "plt.colorbar()"
   ]
  },
  {
   "cell_type": "code",
   "execution_count": 16,
   "id": "af299335-9bbb-4cd0-a93c-5432bafaf9fb",
   "metadata": {},
   "outputs": [
    {
     "data": {
      "text/plain": [
       "100.78923482251327"
      ]
     },
     "execution_count": 16,
     "metadata": {},
     "output_type": "execute_result"
    }
   ],
   "source": [
    "theory(500,1e6)"
   ]
  },
  {
   "cell_type": "code",
   "execution_count": 409,
   "id": "c8926ca1-821c-462b-a31b-bb85c7067305",
   "metadata": {},
   "outputs": [
    {
     "data": {
      "text/plain": [
       "0.7700857249078807"
      ]
     },
     "execution_count": 409,
     "metadata": {},
     "output_type": "execute_result"
    }
   ],
   "source": [
    "scipy.special.ellipj(1, 0.9)[0]"
   ]
  },
  {
   "cell_type": "code",
   "execution_count": 408,
   "id": "a40b6a9e-29c7-4123-9296-4bfc66ad7f85",
   "metadata": {},
   "outputs": [
    {
     "data": {
      "text/plain": [
       "0.7615941559557649"
      ]
     },
     "execution_count": 408,
     "metadata": {},
     "output_type": "execute_result"
    }
   ],
   "source": [
    "np.tanh(1)"
   ]
  },
  {
   "cell_type": "code",
   "execution_count": 84,
   "id": "c7bbeb0e-3d22-418a-a775-d76e2b1dab90",
   "metadata": {},
   "outputs": [
    {
     "data": {
      "text/plain": [
       "<matplotlib.legend.Legend at 0x7fc2a09780d0>"
      ]
     },
     "execution_count": 84,
     "metadata": {},
     "output_type": "execute_result"
    },
    {
     "data": {
      "image/png": "[encoded data removed]",
      "text/plain": [
       "<Figure size 432x288 with 1 Axes>"
      ]
     },
     "metadata": {
      "needs_background": "light"
     },
     "output_type": "display_data"
    }
   ],
   "source": [
    "if MODE != 'wavelength':\n",
    "    1/0\n",
    "    \n",
    "PINDEX = 0\n",
    "def theory1(wavelength, intensity):\n",
    "    new = ne(wavelength)\n",
    "    ne2w = ne(wavelength/2)+0.000000001\n",
    "    lamb = wavelength * 1e-9\n",
    "    \n",
    "    deltak = 4 * np.pi * (ne2w- new)/lamb \n",
    "    c = 3e8\n",
    "    eps0 = 8.85e-12\n",
    "\n",
    "    return intensity**2 *32* np.pi**2 * D33**2 / lamb**2 / c/eps0/new**2/ne2w *np.sin(deltak * THICKNESS/2*1e-6)**2/(deltak**2)\n",
    "\n",
    "def theory2(wavelength, intensity):\n",
    "    new = ne(wavelength)\n",
    "    ne2w = ne(wavelength/2) \n",
    "    lamb = wavelength * 1e-9\n",
    "    L = THICKNESS *1e-6\n",
    "    k = 2*np.pi/ lamb\n",
    "    \n",
    "    deltakl = k* (ne2w- new)* L\n",
    "    c = 3e8\n",
    "    eps0 = 8.85e-12\n",
    "\n",
    "    Ew2 = 2*intensity/c/eps0/new\n",
    "\n",
    "    E2w = Ew2**0.5*np.tanh(k*L*D33* Ew2**0.5/ne2w)\n",
    "\n",
    "    return 0.5*eps0*c*ne2w * E2w**2\n",
    "\n",
    "import scipy.special \n",
    "\n",
    "def theory3(wavelength, intensity):\n",
    "    \"\"\"SHG  intensity, general analytical expression with depletion\"\"\"\n",
    "    new = ne(wavelength)\n",
    "    now = no(wavelength)\n",
    "    ne2w = ne(wavelength/2) #+ 0.000000001\n",
    "    no2w = no(wavelength/2) #+ 0.000000001\n",
    "    \n",
    "    lamb = wavelength * 1e-9\n",
    "    L = THICKNESS *1e-6\n",
    "    k = 2*np.pi/ lamb\n",
    "    \n",
    "    deltak = k* (ne2w - new)*2\n",
    "    c = 3e8\n",
    "    eps0 = 8.85e-12\n",
    "\n",
    "    fact = (eps0*c*ne2w/2/intensity)**0.5 *new*lamb/4/D33\n",
    "    fact = (eps0*c*ne2w/2/intensity)**0.5 *new*lamb/D33/2/np.pi\n",
    "\n",
    "\n",
    "    deltar = fact *deltak\n",
    "\n",
    "    \n",
    "\n",
    "    c = deltar/2*(1+(deltar**2)/16)**0.5\n",
    " \n",
    "    # case low depletion... using taylor expension for a\n",
    "    a =  2/deltar\n",
    "    mask = a > 0.00001\n",
    "    \n",
    "    # case meaningful depletion, analytic expression for a\n",
    "    a[mask] = (1+(deltar[mask]**2)/8-c[mask])**0.5\n",
    "        \n",
    "    b = (1+(deltar**2)/8+c)**0.5\n",
    "\n",
    "\n",
    "\n",
    "    u = b/fact*L\n",
    "    m = a/b\n",
    "    sn,_,_,_ = scipy.special.ellipj(u, a/b)\n",
    "\n",
    "    return intensity * a**2* sn**2\n",
    "\n",
    "\n",
    "\n",
    "plt.plot((WAVELENGTHS), intensity2t[PINDEX]+intensity2r[PINDEX], label = 'T+R')\n",
    "plt.plot((WAVELENGTHS), intensity2r[PINDEX], label = 'R')\n",
    "plt.plot((WAVELENGTHS), intensity2t[PINDEX], label = 'T')\n",
    "plt.plot(WAVELENGTHS, theory3(WAVELENGTHS,INTENSITY).real, label = 'theory3')\n",
    "plt.plot(WAVELENGTHS, theory1(WAVELENGTHS,INTENSITY), label = 'theory1')\n",
    "plt.plot()\n",
    "\n",
    "plt.ylabel('Intensity [W/m$^2$]')\n",
    "plt.legend()"
   ]
  },
  {
   "cell_type": "code",
   "execution_count": null,
   "id": "82c1520a-0b1f-4e0a-a50e-922cf8a9e03f",
   "metadata": {},
   "outputs": [],
   "source": []
  }
 ],
 "metadata": {
  "kernelspec": {
   "display_name": "Python 3 (ipykernel)",
   "language": "python",
   "name": "python3"
  },
  "language_info": {
   "codemirror_mode": {
    "name": "ipython",
    "version": 3
   },
   "file_extension": ".py",
   "mimetype": "text/x-python",
   "name": "python",
   "nbconvert_exporter": "python",
   "pygments_lexer": "ipython3",
   "version": "3.8.5"
  }
 },
 "nbformat": 4,
 "nbformat_minor": 5
}
