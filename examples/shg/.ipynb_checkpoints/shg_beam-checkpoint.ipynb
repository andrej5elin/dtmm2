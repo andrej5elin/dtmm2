{
 "cells": [
  {
   "cell_type": "markdown",
   "id": "f2945633-98fb-4650-bded-78affa755c02",
   "metadata": {},
   "source": [
    "# SHG imaging of LC samples using plane wave illumination - 1D 4x4 matrix method\n",
    "\n",
    "Here, we use a 1D simulator on a 3D LC sample illuminated with a single plane wave - no diffraction effects. For this to be valid, the sample thickness has to be small compared to the lateral variation of the LC director in the plane of the cell.\n",
    "\n",
    "We assume that the structure is 1D, and it may change radically along the propagation direction (valid for cholesterics). Layer thickness has to be set at about 1/10 of the wavelength. Otherwise, the calculation of the SHG will not be accurate (we see this as a violation of energy conservation of the solution). The method uses 4x4 matrix formalism, and we compute both the forward propagating field and the reflected and backward propagating wave. After the computation, we perform an energy conservation check to see if the algorithm has converged.\n",
    "\n",
    "\n",
    "The algorithm first obtains the fundamental beam E field inside the structure. Then, it computes the perturbation of the effective refractive index change caused by the fundamental beam, which induces the SHG field and propagates the SHG field through the sample. If the intensity of the fundamental beam is expected to deplete during SHG conversion, you need to perform multiple SHG computation runs so that we converge to a valid solution.\n",
    "We have three types of calculations here. One is a multi-wavelength calculation, where one selects a single (x,y) coordinate in the sample and computes SHG for several wavelengths. In another run, we must fix the wavelength and perform multi-pixel calculation. Finally, you can perform a full computation. In this case, you need to limit the range of wavelengths and the domain size so that the problem can fit into the system memory.\n",
    "\n",
    "\n"
   ]
  },
  {
   "cell_type": "markdown",
   "id": "4da7189d-d1ca-4a10-9647-7ccbfaa651ce",
   "metadata": {},
   "source": [
    "# Configuration\n",
    "## Imports and non-settable constants"
   ]
  },
  {
   "cell_type": "code",
   "execution_count": 1,
   "id": "8552c1d8-07ca-4d52-8f59-96b2c49266e3",
   "metadata": {},
   "outputs": [],
   "source": [
    "# dtmm configuration \n",
    "import dtmm2.conf\n",
    "from dtmm2.conf import CDTYPE, FDTYPE\n",
    "\n",
    "# core TMM functions\n",
    "from dtmm2.tmm import alphaffi, alphaf, fvec2hevec, phase_mat,hzez_mat, beam_eig, \\\n",
    "             transfer_beam, hevec, beam_transfer_mat, layer_mat,transfer_mat, avec, \\\n",
    "            avec2fvec, field_mat, system_mat, reflection_mat, reflect,  avec2fvec, poynting, fvec2avec\n",
    "from dtmm2 import tmm\n",
    "\n",
    "from dtmm2.source import scalar_field, vector_field\n",
    "\n",
    "from dtmm2.matrix import mode_diffraction_mat, mode_cover_mat, mode_refraction_mat,  apply_mode_matrix, mode_hzez_mat\n",
    "from dtmm2.matrix import field_diffraction_mat,  field_cover_mat, field_refraction_mat,  apply_field_matrix, field_transmittance_mat\n",
    "\n",
    "from dtmm2.operator import lens_transform, focal_pixelsize\n",
    "\n",
    "# some conversion functions\n",
    "from dtmm2.data import matrix2tensor, eps2epsva, chi2array\n",
    "\n",
    "# scalar waves and helper functions\n",
    "from dtmm2.wave import betaphi, eigenmask, k0, planewave, wave2eigenwave\n",
    "\n",
    "# general 4x4 and 2x2 linear algebra (matrix and vector dot functions)\n",
    "from dtmm2.linalg import multi_dot, dotmv, dotmf, eig, dotmm, dotchi2v, inv, dotmf\n",
    "\n",
    "# functions for vector/tensor rotation matrix creation and rotations\n",
    "from dtmm2.rotation import rotation_matrix, rotate_vector, rotate_diagonal_tensor, rotate_tensor\n",
    "\n",
    "# 2D field creation and conversion functions\n",
    "from dtmm2.field import field2modes, modes2field, field2intensity, field2poynting, field2fvec, fvec2field\n",
    "\n",
    "# fft functions\n",
    "from dtmm2.fft import fft2, ifft2\n",
    "\n",
    "\n",
    "# progress bar printing\n",
    "from dtmm2.print_tools import print_progress\n",
    "\n",
    "import matplotlib.pyplot as plt\n",
    "import numpy as np\n",
    "\n",
    "\n",
    "def set_analysis_mode(mode):\n",
    "    \"\"\"Sets analysis mode. Either: \n",
    "         'image' : for image analysis at single wavelength, \n",
    "         'wavelength' :  for wavelength analysis at single pixel\n",
    "         'full' : both image and wavelengths analysis'\n",
    "         \"\"\"\n",
    "    global MODE\n",
    "    if mode.lower() in ('image', 'full', 'wavelength'):\n",
    "        MODE = mode\n",
    "    else:\n",
    "        raise ValueError('Invalid analysis mode')\n",
    "        \n",
    "def polstr(pol):\n",
    "    \"\"\"Returns string representation of the polarization state\"\"\"\n",
    "    x,y = pol\n",
    "    return '({:.2f},{:.2f})'.format(x,y)\n",
    "    \n",
    "# To convert from intensity to internal unitless E field representation, we must normalize with impedance of free space and multiply by 2.\n",
    "# The factor 2 is needed because of the current implementation of the poynting() function in dtmm, which omits 0.5 term in ExH product.\n",
    "# This assures proper creation of the input field amplitude from the requestet intensity in SI units.\n",
    "Z0 = 376.73 * 2"
   ]
  },
  {
   "cell_type": "markdown",
   "id": "844e6171-1d22-40fa-849d-c316ce9f0a2a",
   "metadata": {},
   "source": [
    "## Experimental parameters\n",
    "\n",
    "The main experimental parameters are set here. We use CAPITALCASE for all constants that are meant to be set only once.\n",
    "Any change of constants defined here requires a complete computation re-run.\n",
    "\n",
    "Our sample is a uniaxial LC material (we can also work with biaxial) placed between two identical glass plates. Dimensions of the sample are set in microns. Wave intensity (power flux) is set in W/m$^2$ and the $\\chi^{(2)}$ tensor is defined using the nonlinear tensor coefficients $d_{i,j}$ in SI units of [m/V]. Note that due to the convension $\\chi^{(2)}_{i,j}  = 2*d_{i,j}$. Care must be taken when creating the $\\chi^{(2)}$ tensor array, as the algorithm does not prevent you to calculate with a non-symmetric tensor. We use the `chi2array` function to construct a valid nonlinear susceptibility tensor. This function inspectes the validity of the input coefficients and constructs a valid symmetric tensor.\n",
    "\n",
    "The $j$ coefficient stands for $j=1\\rightarrow 1,1$, $j=2 \\rightarrow 2,2$, $j=3 \\rightarrow 3,3$, $j=4 \\rightarrow 2,3 = 3,2$, $j=5 \\rightarrow  1,3 = 3,1$, $j=6 \\rightarrow  1,2 = 2,1$.\n",
    "\n",
    "In the configuration step, we first define the computation domain size. Then we define the material dispersion and the director profile."
   ]
  },
  {
   "cell_type": "markdown",
   "id": "97ee547e-e670-465f-b011-8a0dde453f78",
   "metadata": {},
   "source": [
    "### Light source"
   ]
  },
  {
   "cell_type": "code",
   "execution_count": null,
   "id": "39940af9-7dcd-47ff-a551-d3e8115eb423",
   "metadata": {},
   "outputs": [],
   "source": []
  },
  {
   "cell_type": "markdown",
   "id": "a4994c19-0053-4c37-bf60-8fd13425d467",
   "metadata": {},
   "source": [
    "### Computational domain and core parameters\n",
    "\n",
    "Core parameters are here. Please inpect the prints to find possible errors and to inspect whether the model will fit into the memory or not"
   ]
  },
  {
   "cell_type": "code",
   "execution_count": 2,
   "id": "b9acdf8a-a488-4c35-8b0c-c6d660b1d358",
   "metadata": {},
   "outputs": [
    {
     "name": "stdout",
     "output_type": "stream",
     "text": [
      "Domain size:\n",
      "  30 x (100, 20, 20)\n",
      "\n",
      "Approximate matrices memory:\n",
      " Single-wavelength : 19.5 MB\n",
      " Single-pixel      : 1.5 MB\n",
      " Full computation  : 0.57 GB\n",
      "\n",
      "Approximate fields memory:\n",
      " Single-wavelength : 0.0 MB\n",
      " Single-pixel      : 0.0 MB\n",
      " Full computation  : 0.00 GB\n",
      "\n",
      "Sample parameters:\n",
      " Cover glass: n = 1.75\n",
      " Sample thickness: 5.0 um\n",
      " Sample width: 100.0 um\n",
      " Sample height: 100.0 um\n",
      "\n",
      "Chi2 tensor [m/V]:\n",
      "[[0.00e+00 0.00e+00 0.00e+00 0.00e+00 0.00e+00 0.00e+00]\n",
      " [0.00e+00 0.00e+00 0.00e+00 0.00e+00 0.00e+00 0.00e+00]\n",
      " [0.00e+00 0.00e+00 1.12e-11 0.00e+00 0.00e+00 0.00e+00]]\n",
      "\n",
      "Multi-wavelength parameters\n",
      " Wavelength range : 1200.0 - 1800.0 nm\n",
      " Intensity range  : 1000000.0 - 1000000.0 W/m2\n",
      " Number of waves  : 30\n",
      "\n",
      "Single-wavelength parameters\n",
      " Wavelength : 800 nm\n",
      " Intensity  : 1000000.0 W/m2\n",
      "\n",
      "Polarizations\n",
      "[(1.0, 0.0), (6.123233995736766e-17, 1.0)]\n",
      "\n",
      "Calculation parameters\n",
      " Step size: 50.0 nm\n"
     ]
    }
   ],
   "source": [
    "# User constants and configuraion\n",
    "# ///////////////////////////////\n",
    "set_analysis_mode('image') #'image' , 'wavelength' or 'full'\n",
    "\n",
    "dtmm2.conf.set_verbose(2) # for progress bar\n",
    "# data sampling shape, choose wisely\n",
    "\n",
    "SHAPE = (100,20,20) # data shape (n layers, n pixels height, n pixels width)\n",
    "# which polarization states of input light we compute for.\n",
    "POLARIZATIONS = [(np.cos(p), np.sin(p)) for p in [0, np.pi/2]]\n",
    "# wavelength used for single-wavelength calculation\n",
    "WAVELENGTH = 800\n",
    "# intensity used for single-wavelength calculation\n",
    "INTENSITY = 1e6\n",
    "# wave propagation parameter for single-wavelength calculation\n",
    "BETA = 0 # see dtmm documentation on this, the beta parameter n*sin(theta)\n",
    "# The phi angle of the wave, only matters if BETA != 0\n",
    "PHI = 0 \n",
    "# wavelength range for the multi-wavelength calculation\n",
    "WAVELENGTHS = np.linspace(1200,1800,30) # nm\n",
    "# wave intensity for each of the waves of the multi-wavelength calculation.\n",
    "INTENSITIES = [INTENSITY]*len(WAVELENGTHS)\n",
    "# wave beta parameter for each of the waves of the multi-wavelength calculation.\n",
    "BETAS = [BETA]*len(WAVELENGTHS) \n",
    "# wave phi parameter for each of the waves of the multi-wavelength calculation.\n",
    "PHIS = [PHI]*len(WAVELENGTHS) \n",
    "\n",
    "D33 = 5.6e-12\n",
    "\n",
    "# the chi2 tensor \n",
    "CHI2 = chi2array(d33 = D33, d13 = 0)\n",
    "# sample thickness\n",
    "THICKNESS = 5. # microns\n",
    "# imaged region \n",
    "WIDTH = 100. # microns\n",
    "HEIGHT = 100. # microns\n",
    "\n",
    "\n",
    "# cover/substrate glass refractive index\n",
    "NCOVER = 1.75\n",
    "\n",
    "# !!!!!!!!!!!!!!!!!!!!!!!!!!!!!!!!!!!!!!!!!!!!!!\n",
    "# STOP! Computed constants, Do not set manually!\n",
    "# //////////////////////////////////////////////\n",
    "\n",
    "STEPSIZE = THICKNESS/SHAPE[0]*1000 #nm\n",
    "# unitless wave number of fundamental and shg waves. Do not set manually!\n",
    "K01 = 2*np.pi/WAVELENGTH * STEPSIZE\n",
    "# SHG wave\n",
    "K02 = 2* K01\n",
    "\n",
    "K01S = 2*np.pi/WAVELENGTHS * STEPSIZE\n",
    "# SHG wave\n",
    "K02S = 2* K01S\n",
    "\n",
    "# epsilon and euler angles for the cover glass\n",
    "EPSILON0 = np.ones((3,)) * NCOVER **2\n",
    "ANGLES0 = np.zeros((3,)) \n",
    "\n",
    "# matrices size in MB for single-wavelength run\n",
    "MB_WAVELENGTH = 2* SHAPE[0]*SHAPE[1]*SHAPE[2]*4*4/1024/1024 * np.dtype(CDTYPE).itemsize \n",
    "# matrices size in MB for single-pixel run\n",
    "MB_PIXEL = 2* len(WAVELENGTHS) * SHAPE[0]*4*4/1024/1024 * np.dtype(CDTYPE).itemsize \n",
    "# required memroy size for full computation\n",
    "GB_FULL = 2*len(WAVELENGTHS)* SHAPE[0]*SHAPE[1]*SHAPE[2]*4*4/1024/1024/1024 * np.dtype(CDTYPE).itemsize \n",
    "\n",
    "# matrices size in MB for single-wavelength run\n",
    "MB_WAVELENGTH_F = len(POLARIZATIONS)*MB_WAVELENGTH//SHAPE[0]\n",
    "# matrices size in MB for single-pixel run\n",
    "MB_PIXEL_F = len(POLARIZATIONS)*MB_PIXEL//SHAPE[0]\n",
    "# required memroy size for full computation\n",
    "GB_FULL_F = len(POLARIZATIONS)*GB_FULL//SHAPE[0]\n",
    "\n",
    "def print_model_info():\n",
    "    print(\"Domain size:\")\n",
    "    print(f'  {len(WAVELENGTHS)} x {SHAPE}')\n",
    "    print()\n",
    "    print('Approximate matrices memory:')\n",
    "    print(' Single-wavelength : {:.1f} MB'.format(MB_WAVELENGTH))\n",
    "    print(' Single-pixel      : {:.1f} MB'.format(MB_PIXEL))\n",
    "    print(' Full computation  : {:.2f} GB'.format(GB_FULL))\n",
    "    print()\n",
    "    print('Approximate fields memory:')\n",
    "    print(' Single-wavelength : {:.1f} MB'.format(MB_WAVELENGTH_F))\n",
    "    print(' Single-pixel      : {:.1f} MB'.format(MB_PIXEL_F))\n",
    "    print(' Full computation  : {:.2f} GB'.format(GB_FULL_F))\n",
    "    print()\n",
    "    print('Sample parameters:')\n",
    "    print(f' Cover glass: n = {NCOVER}')\n",
    "    print(f' Sample thickness: {THICKNESS} um')\n",
    "    print(f' Sample width: {WIDTH} um')\n",
    "    print(f' Sample height: {HEIGHT} um')\n",
    "    print()\n",
    "    print('Chi2 tensor [m/V]:')\n",
    "    print(CHI2)\n",
    "    print()\n",
    "    print('Multi-wavelength parameters')\n",
    "    print(' Wavelength range : {:.1f} - {:.1f} nm'.format(min(WAVELENGTHS), max(WAVELENGTHS)))\n",
    "    print(' Intensity range  : {:.1f} - {:.1f} W/m2'.format(min(INTENSITIES), max(INTENSITIES)))\n",
    "    print(' Number of waves  : {}'.format(len(WAVELENGTHS)))\n",
    "    print()\n",
    "    print('Single-wavelength parameters')\n",
    "    print(f' Wavelength : {WAVELENGTH} nm' )\n",
    "    print(f' Intensity  : {INTENSITY} W/m2' )\n",
    "    print()\n",
    "    print('Polarizations')\n",
    "    print(POLARIZATIONS)\n",
    "    print()\n",
    "    print('Calculation parameters')\n",
    "    print(f' Step size: {STEPSIZE} nm')\n",
    "\n",
    "\n",
    "print_model_info()\n"
   ]
  },
  {
   "cell_type": "markdown",
   "id": "cd9874f3-7f4a-48c0-8bce-f40c758dad20",
   "metadata": {},
   "source": [
    "### Refractive index dispersion\n",
    "\n",
    "We define the dispersion of the ordinary and extraordinary refractive indices as a function and plot the fundamental and SHG wave refractive indices. Note that we define no and ne and then map these to n1, n2 and n3. This is because the algorithm also works for biaxial case and therefore expects functions n1,n2,n3 as input."
   ]
  },
  {
   "cell_type": "code",
   "execution_count": 3,
   "id": "aa32ed25-9043-45ad-94ca-918a6c8e8f96",
   "metadata": {},
   "outputs": [
    {
     "data": {
      "image/png": "[encoded data removed]",
      "text/plain": [
       "<Figure size 432x288 with 4 Axes>"
      ]
     },
     "metadata": {
      "needs_background": "light"
     },
     "output_type": "display_data"
    }
   ],
   "source": [
    "def ne(wavelength):\n",
    "    return 1.8447 + 24151/(wavelength**2)\n",
    "\n",
    "def no(wavelength):\n",
    "    return 1.6347 + 24151/(wavelength**2)\n",
    "\n",
    "def ne(wavelength):\n",
    "    return 1.58 + 24151/(wavelength**2)\n",
    "\n",
    "def no(wavelength):\n",
    "    return 1.48 + 24151/(wavelength**2)\n",
    "    \n",
    "# we actualy use n1, n2, n3 functions, so we need to map no and ne\n",
    "n1 = no \n",
    "n2 = no \n",
    "n3 = ne \n",
    "\n",
    "# plot for visual inspection\n",
    "\n",
    "fix, ax1 = plt.subplots(1)\n",
    "axd1 = ax1.twinx()\n",
    "\n",
    "plt.ylabel(r'$\\delta n$')\n",
    "ax2 = ax1.twiny()\n",
    "axd2 = axd1.twiny()\n",
    "\n",
    "l1 = ax1.plot(WAVELENGTHS, no(WAVELENGTHS), label = '$n_o(\\omega)$')\n",
    "l2 = ax1.plot(WAVELENGTHS, ne(WAVELENGTHS), label = '$n_e(\\omega)$')\n",
    "\n",
    "ax1.set_xlabel('Wavelength [nm]')\n",
    "ax1.set_ylabel('n')\n",
    "\n",
    "axd1.plot(WAVELENGTHS, ne(WAVELENGTHS) - no(WAVELENGTHS), 'k', label =r'$\\delta n$')\n",
    "\n",
    "l3 = ax2.plot(WAVELENGTHS/2, no(WAVELENGTHS/2), '--', label = '$n_o(2\\omega)$')\n",
    "l4 = ax2.plot(WAVELENGTHS/2, ne(WAVELENGTHS/2), '--',label = '$n_e(2\\omega)$')\n",
    "\n",
    "axd2.plot(WAVELENGTHS/2, ne(WAVELENGTHS/2) - no(WAVELENGTHS/2), 'k--')\n",
    "\n",
    "\n",
    "ls = l1 + l2 + l3 + l4\n",
    "lbls = [l.get_label() for l in ls]\n",
    "plt.legend(ls, lbls)\n",
    "plt.show()\n"
   ]
  },
  {
   "cell_type": "markdown",
   "id": "f6502df2-a9d4-4c53-88ad-7c0f4f56413a",
   "metadata": {},
   "source": [
    "### Director orientation\n",
    "\n",
    "Here we define the three Euler angles $\\psi,\\theta,\\phi$ as parametric functions that define the orientation of the eigenframe in the given voxel defined by a coordinate (x,y,z). The functions take a numpy array coordinates x,y,z and must return a new array of same shape and type. Then the program automatically build the required material Euler angles array used for calculation. \n",
    "\n",
    "We also define the three angles for a single-pixel run.\n",
    "\n",
    "In case of uniaxial LC, you must set the $\\theta$ and $\\phi$ angles which correspond to the orientation of the director with respect to the laboratory coordinate frame. $\\theta = 0$ is along the $z$ axis, $\\theta = pi/2$ and $\\phi=0$ is along the $x$ axis. \n",
    "\n"
   ]
  },
  {
   "cell_type": "code",
   "execution_count": 4,
   "id": "4b9c7e82-c904-450f-9d90-f7c6ce6c8381",
   "metadata": {},
   "outputs": [
    {
     "name": "stdout",
     "output_type": "stream",
     "text": [
      "Single-wave parameters\n",
      " Psi range:   0.000 - 0.000 rad\n",
      " Theta range: 0.000 - 1.571 rad\n",
      " Phi range:   0.000 - 1.571 rad\n",
      "\n",
      "Multi-wavelength parameters\n",
      " Psi range:   0.000 - 0.000 rad\n",
      " Theta range: 1.571 - 1.571 rad\n",
      " Phi range:   0.000 - 0.000 rad\n",
      " I index : 0\n",
      " J index : 0\n"
     ]
    },
    {
     "data": {
      "text/plain": [
       "<matplotlib.colorbar.Colorbar at 0x7fc91151c4f0>"
      ]
     },
     "execution_count": 4,
     "metadata": {},
     "output_type": "execute_result"
    },
    {
     "data": {
      "image/png": "[encoded data removed]",
      "text/plain": [
       "<Figure size 432x288 with 1 Axes>"
      ]
     },
     "metadata": {
      "needs_background": "light"
     },
     "output_type": "display_data"
    },
    {
     "data": {
      "image/png": "[encoded data removed]",
      "text/plain": [
       "<Figure size 432x288 with 2 Axes>"
      ]
     },
     "metadata": {
      "needs_background": "light"
     },
     "output_type": "display_data"
    },
    {
     "data": {
      "image/png": "[encoded data removed]",
      "text/plain": [
       "<Figure size 432x288 with 2 Axes>"
      ]
     },
     "metadata": {
      "needs_background": "light"
     },
     "output_type": "display_data"
    }
   ],
   "source": [
    "I = 0 # height index for single-pixel run\n",
    "J = 0 # width index for single-pixel run\n",
    "\n",
    "N = 30 # layer index for plotting\n",
    "\n",
    "ROTATION = np.pi/2 # max rotation of the director along x\n",
    "TILT = np.pi/2 # max tilt angle of the director along y\n",
    "\n",
    "def psi(x,y,z):\n",
    "    return 0. # For uniaxial set to zero or any value\n",
    "    \n",
    "def theta(x,y,z):\n",
    "    return TILT - y/HEIGHT * TILT\n",
    "\n",
    "def phi(x,y,z):\n",
    "    return  x/WIDTH * ROTATION\n",
    "\n",
    "# computed parameters. Do not change these!\n",
    "#//////////////////////////////////////////\n",
    "\n",
    "# range of coordinates in z,y, and x directions\n",
    "z = np.linspace(0,THICKNESS, SHAPE[0])\n",
    "y = np.linspace(0,HEIGHT, SHAPE[1])\n",
    "x = np.linspace(0,WIDTH, SHAPE[2])\n",
    "\n",
    "# we use ij indexing in dtmm, the first axis is (i = z), then height (j = y), then width (k = x)\n",
    "zzz,yyy,xxx = np.meshgrid(z,y,x, indexing = 'ij')\n",
    "\n",
    "# create an empty placehold of floats\n",
    "ANGLES = np.empty(SHAPE+(3,), dtype = FDTYPE)\n",
    "# fill the array\n",
    "ANGLES[...,0] = psi(xxx,yyy,zzz)\n",
    "ANGLES[...,1] = theta(xxx,yyy,zzz)\n",
    "ANGLES[...,2] = phi(xxx,yyy,zzz)\n",
    "\n",
    "def print_director_info():\n",
    "    print('Single-wave parameters')\n",
    "    print(' Psi range:   {:.3f} - {:.3f} rad'.format(ANGLES[...,0].min(), ANGLES[...,0].max()))\n",
    "    print(' Theta range: {:.3f} - {:.3f} rad'.format(ANGLES[...,1].min(), ANGLES[...,1].max()))\n",
    "    print(' Phi range:   {:.3f} - {:.3f} rad'.format(ANGLES[...,2].min(), ANGLES[...,2].max()))\n",
    "    print()\n",
    "    print('Multi-wavelength parameters')\n",
    "    print(' Psi range:   {:.3f} - {:.3f} rad'.format(ANGLES[...,I,J,0].min(), ANGLES[...,I,J,0].max()))\n",
    "    print(' Theta range: {:.3f} - {:.3f} rad'.format(ANGLES[...,I,J,1].min(), ANGLES[...,I,J,1].max()))\n",
    "    print(' Phi range:   {:.3f} - {:.3f} rad'.format(ANGLES[...,I,J,2].min(), ANGLES[...,I,J,2].max()))\n",
    "    print(f' I index : {I}' )\n",
    "    print(f' J index : {J}' )\n",
    "    \n",
    "print_director_info()\n",
    "\n",
    "# We plot angles with modulo 2 pi \n",
    "pi2 = 2*np.pi\n",
    "\n",
    "fig = plt.figure()\n",
    "plt.plot(z, ANGLES[:,I,J,0]%pi2,'o',label = r'$\\psi$')\n",
    "plt.plot(z, ANGLES[:,I,J,1]%pi2,'o',label = r'$\\theta$')\n",
    "plt.plot(z, ANGLES[:,I,J,2]%pi2,'o',label = r'$\\phi$')\n",
    "plt.xlabel('z [um]')\n",
    "plt.title(r'Euler angles @ (:,{},{}) ; x = {:.1f} um, y = {:.1f} um'.format(I,J,xxx[N,I,J], yyy[N,I,J]))\n",
    "plt.legend()\n",
    "\n",
    "fig = plt.figure()\n",
    "im1 = plt.imshow(ANGLES[N,:,:,1]%pi2, origin = 'lower', extent = (0,HEIGHT, 0, WIDTH))\n",
    "plt.title(r'Theta @ N = {}; z = {:.1f} um'.format(N, z[N]))\n",
    "fig.colorbar(im1)\n",
    "plt.xlabel('x [um]')\n",
    "plt.ylabel('y [um]')\n",
    "\n",
    "fig = plt.figure()\n",
    "im2 = plt.imshow(ANGLES[N,:,:,2]%pi2, origin = 'lower', extent = (0,HEIGHT, 0, WIDTH))\n",
    "plt.xlabel('x [um]')\n",
    "plt.ylabel('y [um]')\n",
    "plt.title(r'Phi @ N = {}; z = {:.1f} um'.format(N, z[N]))\n",
    "fig.colorbar(im2)"
   ]
  },
  {
   "cell_type": "markdown",
   "id": "33b6b7ea-c15c-47c0-b26e-cb71cb36a4ac",
   "metadata": {},
   "source": [
    "### Light source\n",
    "\n",
    "Here we build and inspect the fundamental beam source used later for beam-scanning imaging. The goal here is to simulate the EH field at the entrance of the sample.\n",
    "\n",
    "We assume that the beam is first shaped and defined in the infinity space, where we may work with paraxial beams. We define the amplitude (gaussian beam), define the polarization of the beam, and finally, project the beam using an idealized infinity corrected imaging system sonsisting of a tube lens and an objective lens. Together they form an imaging system that transfers the input plane of beam to the sample plane with a given magnification/compression.\n",
    "\n",
    "We assume that the objective (lens) used to compress the beam uses standard 0,17 cover glass correction and we define the extra glass thickness over which the beam travels prior to reaching the sample. We also define the focal plane of the beam and inspect its profile as it travels through the glass so that we can astimate the true focal plane in the sample. "
   ]
  },
  {
   "cell_type": "code",
   "execution_count": 5,
   "id": "50828e68-7873-4d1f-a5ab-3306537e5103",
   "metadata": {},
   "outputs": [
    {
     "name": "stdout",
     "output_type": "stream",
     "text": [
      "2.0\n"
     ]
    },
    {
     "name": "stderr",
     "output_type": "stream",
     "text": [
      "/Users/andrej/GitHub/dtmm2/dtmm2/tmm.py:871: RuntimeWarning: overflow encountered in _phase_mat_vec\n",
      "  out = _phase_mat_vec(alpha,kd,out)\n",
      "/Users/andrej/opt/anaconda3/lib/python3.8/site-packages/numba/np/ufunc/gufunc.py:170: RuntimeWarning: invalid value encountered in dotmdm\n",
      "  return self.ufunc(*args, **kwargs)\n"
     ]
    },
    {
     "name": "stdout",
     "output_type": "stream",
     "text": [
      "Computing eigensystem\n"
     ]
    },
    {
     "data": {
      "image/png": "[encoded data removed]",
      "text/plain": [
       "<Figure size 432x288 with 1 Axes>"
      ]
     },
     "metadata": {
      "needs_background": "light"
     },
     "output_type": "display_data"
    },
    {
     "data": {
      "image/png": "[encoded data removed]",
      "text/plain": [
       "<Figure size 432x288 with 1 Axes>"
      ]
     },
     "metadata": {
      "needs_background": "light"
     },
     "output_type": "display_data"
    },
    {
     "data": {
      "image/png": "[encoded data removed]",
      "text/plain": [
       "<Figure size 720x360 with 4 Axes>"
      ]
     },
     "metadata": {
      "needs_background": "light"
     },
     "output_type": "display_data"
    },
    {
     "data": {
      "image/png": "[encoded data removed]",
      "text/plain": [
       "<Figure size 720x360 with 4 Axes>"
      ]
     },
     "metadata": {
      "needs_background": "light"
     },
     "output_type": "display_data"
    },
    {
     "data": {
      "image/png": "[encoded data removed]",
      "text/plain": [
       "<Figure size 720x360 with 4 Axes>"
      ]
     },
     "metadata": {
      "needs_background": "light"
     },
     "output_type": "display_data"
    },
    {
     "data": {
      "image/png": "[encoded data removed]",
      "text/plain": [
       "<Figure size 720x360 with 4 Axes>"
      ]
     },
     "metadata": {
      "needs_background": "light"
     },
     "output_type": "display_data"
    },
    {
     "data": {
      "image/png": "[encoded data removed]",
      "text/plain": [
       "<Figure size 432x288 with 2 Axes>"
      ]
     },
     "metadata": {
      "needs_background": "light"
     },
     "output_type": "display_data"
    },
    {
     "data": {
      "image/png": "[encoded data removed]",
      "text/plain": [
       "<Figure size 432x288 with 2 Axes>"
      ]
     },
     "metadata": {
      "needs_background": "light"
     },
     "output_type": "display_data"
    },
    {
     "data": {
      "image/png": "[encoded data removed]",
      "text/plain": [
       "<Figure size 432x288 with 2 Axes>"
      ]
     },
     "metadata": {
      "needs_background": "light"
     },
     "output_type": "display_data"
    }
   ],
   "source": [
    "# lens focal length used to compress the beam to the requested shape\n",
    "LENS_FOCAL = 50 # mm\n",
    "# Numerical aperture of the lens\n",
    "LENS_NA = 0.9\n",
    "# defines the beam domain size in microns. Should be much larger than beam waist size.\n",
    "BEAM_HEIGHT = 20. # um\n",
    "BEAM_WIDTH = 20. # um\n",
    "\n",
    "#requested gaussian beam waist in microns\n",
    "WAIST = 2. # um\n",
    "# does not really matter, we will work on 1D sample, position of the beam does not matter. Just for visualization.\n",
    "CENTER = (BEAM_HEIGHT/2.,BEAM_WIDTH/2.)\n",
    "#CENTER = (0,0)\n",
    "\n",
    "# shape of the array representation of the beam. Together with wavlength, and pixel size parameters\n",
    "# it defines the resolution of the beam.\n",
    "BEAM_SHAPE = (48,48)\n",
    "\n",
    "# where to put beam waist, assuming propagation is in a medium with refractive index of NCOVER\n",
    "FOCAL = -THICKNESS/2 \n",
    "\n",
    "DCOVER = 0.7 # actual cover glass thickness.\n",
    "DLENS = 0.17 # objective lens cover glass correction thikcness\n",
    "\n",
    "\n",
    "#STOP! computed parameters bellow\n",
    "#////////////////////////////////\n",
    "\n",
    "\n",
    "\n",
    "def window(x,y):\n",
    "    print(WAIST)\n",
    "    return np.exp(-((x-CENTER[0])**2+(y-CENTER[1])**2)/WAIST**2)\n",
    "   \n",
    "o0 = BEAM_HEIGHT/BEAM_SHAPE[0]/2\n",
    "o1 = BEAM_WIDTH/BEAM_SHAPE[1]/2 \n",
    "yw = np.linspace(o0,BEAM_HEIGHT-o0, BEAM_SHAPE[0])\n",
    "xw = np.linspace(o1,BEAM_WIDTH-o1, BEAM_SHAPE[1])\n",
    "CENTER = (BEAM_HEIGHT/2. + o0,BEAM_WIDTH/2. + o1)\n",
    "\n",
    "#we use ij indexing in dtmm, the first axis is (i = z), then height (j = y), then width (k = x)\n",
    "yy,xx = np.meshgrid(yw,xw, indexing = 'ij')\n",
    "\n",
    "# gaussian window function. We will use it to constuct the beam\n",
    "WINDOW = window(xx,yy)\n",
    "#WINDOW += np.random.randn(*BEAM_SHAPE)\n",
    "\n",
    "# pixel aspect ratio. We can have different resolutions in x and y.\n",
    "# normally, we will use square view and aspect ratio is then 1.\n",
    "PIXEL_ASPECT = BEAM_WIDTH/BEAM_SHAPE[1]/(BEAM_HEIGHT/BEAM_SHAPE[0])\n",
    "\n",
    "# computed! defines the size of the pixel for the array representation of the beam.\n",
    "PIXEL_SIZE = BEAM_HEIGHT/BEAM_SHAPE[0] * 1000 # nm\n",
    "\n",
    "# uncomepnsated cover glass thickness\n",
    "DCOMP = (DCOVER-DLENS)*1e6/ PIXEL_SIZE  #in pixel units\n",
    "\n",
    "# computed unitless wavenumber\n",
    "K01_PIXEL = k0(WAVELENGTH, PIXEL_SIZE)\n",
    "K02_PIXEL = k0(WAVELENGTH/2, PIXEL_SIZE)\n",
    "K01_PIXEL2 = k0(WAVELENGTH, PIXEL_SIZE*1000)\n",
    "\n",
    "#first create a scalar eigenwave. Only needed if BETA != 0., otherwise it is unity.\n",
    "wave = planewave(BEAM_SHAPE , K01_PIXEL, BETA , PHI, aspect = 1.)\n",
    "# this function converts the wave to a nearest eigenwave\n",
    "wave = wave2eigenwave(wave) \n",
    "# apply the amplitude function\n",
    "wave = wave * WINDOW * (INTENSITY * Z0)**0.5\n",
    "\n",
    "DPIXEL = STEPSIZE/PIXEL_SIZE \n",
    "\n",
    "\n",
    "\n",
    "# create light source placehold\n",
    "# source is of shape (2,4,N,M) representing a field array of the beam in real space\n",
    "source1 = np.zeros((2,4,) + BEAM_SHAPE, dtype = CDTYPE)\n",
    "source2 = np.zeros((2,4,) + BEAM_SHAPE, dtype = CDTYPE)\n",
    "\n",
    "for i, jones in enumerate(POLARIZATIONS):\n",
    "    source1[i] = scalar_field(wave, jones, epsilon = (1,1,1))\n",
    "\n",
    "#now define the mode indices that we will use to represent our field \n",
    "mode_mask1 = eigenmask(BEAM_SHAPE, K01_PIXEL, aspect = PIXEL_ASPECT, betamax = 0.9)\n",
    "mode_mask2 = eigenmask(BEAM_SHAPE, K02_PIXEL, aspect = PIXEL_ASPECT, betamax = 0.9)\n",
    "\n",
    "p, a = focal_pixelsize(BEAM_SHAPE, K01_PIXEL,  aspect = 1., focal = 50)\n",
    "extent_beam = [0, p*BEAM_SHAPE[0]/1e6,0,p*BEAM_SHAPE[1]/1e6] # mm\n",
    "\n",
    "fsource1 = np.fft.fftshift(ifft2(np.fft.ifftshift(source1, axes = (-2,-1))),axes = (-2,-1))\n",
    "norm = (BEAM_SHAPE[0] * BEAM_SHAPE[1])**0.5\n",
    "fsource1 *= norm\n",
    "\n",
    "\n",
    "#source1 = vector_field(source1,K01_PIXEL,epsilon = (1,1,1), mask = mode_mask1)\n",
    "\n",
    "#refmat = field_refraction_mat(BEAM_SHAPE, K01_PIXEL, epsilon = (NCOVER**2, NCOVER**2, NCOVER**2+0.00001),angles = (0,0,0), mask = mode_mask1)\n",
    "#source1 = lens_transform(fsource1, refmat)\n",
    "\n",
    "cmat = field_cover_mat(BEAM_SHAPE, K01_PIXEL, d_cover = DCOMP, n_cover = NCOVER, mask = mode_mask1)\n",
    "tmat = field_transmittance_mat(BEAM_SHAPE, K01_PIXEL, epsilon2 = (NCOVER**2,NCOVER**2,NCOVER**2))\n",
    "mat = dotmm(tmat,cmat)\n",
    "mat = tmat\n",
    "source1 = apply_field_matrix(source1, mat)\n",
    "\n",
    "\n",
    "# this function returns mode_mask and actual mode coefficients\n",
    "# we have devined mode mask above, so no need to track\n",
    "_, modes1 = field2modes(source1, K01_PIXEL, mask = mode_mask1)\n",
    "_, modes2 = field2modes(source2, K02_PIXEL, mask = mode_mask2)\n",
    "\n",
    "    \n",
    "print(\"Computing eigensystem\")\n",
    "alpha1, fmat1 = beam_eig(K01_PIXEL,EPSILON0,ANGLES0,mask = mode_mask1) \n",
    "fmati1 = inv(fmat1)\n",
    "\n",
    "alpha0, fmat0 = beam_eig(K01_PIXEL2,EPSILON0,ANGLES0,mask = mode_mask1) \n",
    "fmati0 = inv(fmat0)\n",
    "\n",
    "#modes1 = dotmv(fmat1,dotmv(fmati0,modes1))\n",
    "\n",
    "# backpropate so that we have slightly defocused beam at the entrance surface\n",
    "# this way  the beam will get in focal point at the middle of the sample\n",
    "pmat = phase_mat(alpha1, 2*np.pi/WAVELENGTH *1000* FOCAL)\n",
    "\n",
    "alpha2, fmat2 = beam_eig(K02_PIXEL,EPSILON0,ANGLES0,mask = mode_mask2) \n",
    "fmati2 = inv(fmat2)\n",
    "\n",
    "pmat[...,1] = 0 #set to zero to kill back propagating waves\n",
    "pmat[...,3] = 0 #set to zero to kill back propagating waves\n",
    "\n",
    "#propagate field \n",
    "modes1 = dotmv(fmat1, pmat * dotmv(fmati1, modes1))\n",
    "\n",
    "source1 = modes2field(mode_mask1, modes1)\n",
    "\n",
    "\n",
    "f = fft2(source1)\n",
    "\n",
    "plt.figure()\n",
    "plt.imshow(np.real(fsource1[0,0]), extent = extent_beam, origin = 'lower')\n",
    "plt.xlabel(\"x [mm]\")\n",
    "plt.ylabel(\"y [mm]\")\n",
    "plt.title(\"Expanded beam\")\n",
    "\n",
    "plt.figure()\n",
    "plt.imshow(np.fft.fftshift(mode_mask1), extent = extent_beam, origin = 'lower')\n",
    "plt.xlabel(\"x [mm]\")\n",
    "plt.ylabel(\"y [mm]\")\n",
    "plt.title(\"Lens apeture\")\n",
    "\n",
    "\n",
    "intensity1 = field2poynting(source1)/Z0\n",
    "\n",
    "z_scan = np.linspace(0, THICKNESS, 3)\n",
    "intensity_scan = []\n",
    "\n",
    "for z in z_scan:\n",
    "    kd = 2*np.pi/WAVELENGTH *1000* z\n",
    "    pmat = phase_mat(alpha1, kd)\n",
    "    out = dotmv(fmat1, pmat * dotmv(fmati1, modes1))\n",
    "    out = modes2field(mode_mask1, out)\n",
    "    intensity = field2intensity(out)/Z0\n",
    "    intensity_scan.append(intensity)\n",
    "    \n",
    "PINDEX = 0\n",
    "\n",
    "def plot_field(data, component = \"Ex\"):\n",
    "    #data = data[...,200:300,200:300]\n",
    "    low = min(data.real.min(),data.imag.min())\n",
    "    high = max(data.real.max(),data.imag.max())\n",
    "    plt.figure(figsize = (10,5))\n",
    "    plt.subplot(121)\n",
    "    plt.imshow(data.real, origin = 'lower', vmin = low, vmax = high,\n",
    "               extent = (0,BEAM_HEIGHT, 0, BEAM_WIDTH), interpolation = 'none')\n",
    "    plt.colorbar()\n",
    "    plt.title(f\"Source Re({component}) [V/m]\")\n",
    "    plt.xlabel(\"x [um]\")\n",
    "    plt.ylabel(\"y [um]\")\n",
    "    plt.subplot(122)\n",
    "    plt.imshow(data.imag, origin = 'lower', vmin = low, vmax = high,\n",
    "               extent = (0,BEAM_HEIGHT, 0, BEAM_WIDTH), interpolation = 'none')\n",
    "    plt.colorbar()\n",
    "    plt.title(f\"Source Im({component}) [V/m]\")\n",
    "    plt.xlabel(\"x [um]\")\n",
    "    plt.ylabel(\"y [um]\")\n",
    "    \n",
    "plot_field(source1[PINDEX,0], \"Ex\")\n",
    "plot_field(source1[PINDEX,2], \"Ey\")\n",
    "plot_field(source1[PINDEX,3], \"Hx\")\n",
    "plot_field(source1[PINDEX,1], \"Hy\")\n",
    "\n",
    "\n",
    "for z,i in zip(z_scan, intensity_scan):\n",
    "    plt.figure()\n",
    "    plt.imshow(i[PINDEX])\n",
    "    plt.colorbar()\n",
    "    plt.title(f\"Intensity [W/m2] @ z = {z} um\")\n",
    "    plt.xlabel(\"x [um]\")\n",
    "    plt.ylabel(\"y [um]\")\n",
    "    \n",
    "\n",
    "\n",
    "# normalized layer thickness of fundamental and shg waves\n",
    "\n",
    "    "
   ]
  },
  {
   "cell_type": "markdown",
   "id": "1acfe3fa-dddb-4b3e-804b-2cb0a64305f3",
   "metadata": {
    "tags": []
   },
   "source": [
    "# Scanning beam calculation"
   ]
  },
  {
   "cell_type": "code",
   "execution_count": 39,
   "id": "d82da7a0-4e0f-49bc-bac4-065bf21e19bf",
   "metadata": {
    "jp-MarkdownHeadingCollapsed": true,
    "tags": []
   },
   "outputs": [
    {
     "name": "stdout",
     "output_type": "stream",
     "text": [
      "Building layer matrices of the fundamental wave\n",
      "Building hzez matrices\n",
      "Building layer matrices of the shg wave\n",
      "Calculating stack matrices\n",
      "Calculating system matrices\n",
      "Calculating reflection matrices\n",
      "Transferring fundamental field\n"
     ]
    }
   ],
   "source": [
    "# epsilon tensors of fundamental and shg waves\n",
    "# we use numpy broadcasting rules here, so we add two empty axes  to match the angles array shape\n",
    "epsilon1 = np.zeros((SHAPE[0],6))\n",
    "epsilon1[...,0] = n1(WAVELENGTH)**2\n",
    "epsilon1[...,1] = n2(WAVELENGTH)**2\n",
    "epsilon1[...,2] = n3(WAVELENGTH)**2\n",
    "\n",
    "epsilon2 = np.zeros((SHAPE[0],6))\n",
    "epsilon2[...,0] = n1(WAVELENGTH/2)**2\n",
    "epsilon2[...,1] = n2(WAVELENGTH/2)**2\n",
    "epsilon2[...,2] = n3(WAVELENGTH/2)**2\n",
    "\n",
    "angles = np.ones((SHAPE[0],SHAPE[1],1,3)) \n",
    "angles[...,0,:] = ANGLES[:,:,J]\n",
    "\n",
    "print('Building layer matrices of the fundamental wave')\n",
    "# we propagate forward and only half step so that we can access mid-plane \n",
    "matrices1 = [mode_diffraction_mat(mode_mask1, K01_PIXEL, DPIXEL,epsilon1[i],angles[i]) for i in range(SHAPE[0])]\n",
    "print(\"Building hzez matrices\")\n",
    "hzez1 = [mode_hzez_mat(mode_mask1, K01_PIXEL, epsilon1[i], angles[i]) for i in range(SHAPE[0])]\n",
    "print('Building layer matrices of the shg wave')\n",
    "matrices2 = [mode_diffraction_mat(mode_mask2, K02_PIXEL, DPIXEL,epsilon2[i],angles[i]) for i in range(SHAPE[0])]\n",
    "print('Calculating stack matrices')\n",
    "# we apply each matrix twice because these are half-layer matrices\n",
    "stack_matrix1 = multi_dot((dotmm(m,m) for m in reversed(matrices1)))\n",
    "stack_matrix2 = multi_dot((dotmm(m,m)  for m in reversed(matrices2)))\n",
    "print('Calculating system matrices')\n",
    "smat1 = system_mat(stack_matrix1, fmat1,fmat1, transfer = \"forward\")\n",
    "smat2 = system_mat(stack_matrix2, fmat2,fmat2, transfer = \"forward\")\n",
    "print('Calculating reflection matrices')\n",
    "rmat1 = reflection_mat(smat1,transfer = 'forward')\n",
    "rmat2 = reflection_mat(smat2,transfer = 'forward')\n",
    "\n",
    "print('Transferring fundamental field')\n",
    "modes1_in = np.empty(shape = (2,) + rmat1.shape[:-1], dtype = rmat1.dtype)\n",
    "modes2_in = np.empty(shape = (2,) + rmat2.shape[:-1], dtype = rmat2.dtype)\n",
    "modes1_in[...] = modes1[:,None,...]\n",
    "modes2_in[...] = modes2[:,None,...]\n",
    "\n",
    "# compute output field, also modifies the input field to add reflected part\n",
    "modes1_out = reflect(modes1_in, rmat1,fmatin = fmat1, fmatout = fmat1)\n",
    "modes2_out = reflect(modes2_in, rmat2,fmatin = fmat2, fmatout = fmat2)"
   ]
  },
  {
   "cell_type": "code",
   "execution_count": 31,
   "id": "20a73b21-3610-49fa-b30e-980c5be21471",
   "metadata": {
    "jp-MarkdownHeadingCollapsed": true,
    "tags": []
   },
   "outputs": [
    {
     "data": {
      "text/plain": [
       "3.25"
      ]
     },
     "execution_count": 31,
     "metadata": {},
     "output_type": "execute_result"
    }
   ],
   "source": []
  },
  {
   "cell_type": "code",
   "execution_count": 41,
   "id": "a51c658d-5f28-4fb2-b9fc-a84bb4c7eb53",
   "metadata": {
    "jp-MarkdownHeadingCollapsed": true,
    "tags": []
   },
   "outputs": [],
   "source": [
    "modes1_in = np.empty(shape = (2,) + rmat1.shape[:-1], dtype = rmat1.dtype)\n",
    "modes2_in = np.empty(shape = (2,) + rmat2.shape[:-1], dtype = rmat2.dtype)\n",
    "modes1_in[...] = modes1[:,None,...]\n",
    "modes2_in[...] = modes2[:,None,...]\n",
    "\n",
    "# compute output field, also modifies the input field to add reflected part\n",
    "modes1_out = reflect(modes1_in, rmat1,fmatin = fmat1, fmatout = fmat1)\n",
    "modes2_out = reflect(modes2_in, rmat2,fmatin = fmat2, fmatout = fmat2)"
   ]
  },
  {
   "cell_type": "code",
   "execution_count": 45,
   "id": "06d03042-7727-4989-a5a7-7abc025a83a9",
   "metadata": {
    "jp-MarkdownHeadingCollapsed": true,
    "tags": []
   },
   "outputs": [
    {
     "name": "stdout",
     "output_type": "stream",
     "text": [
      "Computing SHG field (run 1/1)...\n",
      " |==================================================| 100.0% \n"
     ]
    },
    {
     "ename": "NameError",
     "evalue": "name 'field2_in' is not defined",
     "output_type": "error",
     "traceback": [
      "\u001b[0;31m---------------------------------------------------------------------------\u001b[0m",
      "\u001b[0;31mNameError\u001b[0m                                 Traceback (most recent call last)",
      "Input \u001b[0;32mIn [45]\u001b[0m, in \u001b[0;36m<cell line: 2>\u001b[0;34m()\u001b[0m\n\u001b[1;32m    121\u001b[0m amplg1\u001b[38;5;241m=\u001b[39m fvec2avec(gain1,fmat1)\n\u001b[1;32m    122\u001b[0m amplg2 \u001b[38;5;241m=\u001b[39m fvec2avec(gain2,fmat2)\n\u001b[0;32m--> 125\u001b[0m field2_out \u001b[38;5;241m=\u001b[39m reflect(\u001b[43mfield2_in\u001b[49m, rmat2, fmatin \u001b[38;5;241m=\u001b[39m fmat2, fmatout \u001b[38;5;241m=\u001b[39m fmat2, gvecout \u001b[38;5;241m=\u001b[39m gain2)\n\u001b[1;32m    126\u001b[0m field1_out \u001b[38;5;241m=\u001b[39m reflect(field1_in, rmat1, fmatin \u001b[38;5;241m=\u001b[39m fmat1, fmatout \u001b[38;5;241m=\u001b[39m fmat1, gvecout \u001b[38;5;241m=\u001b[39m gain1)   \n\u001b[1;32m    128\u001b[0m ampl1_in \u001b[38;5;241m=\u001b[39m fvec2avec(field1_in,fmat1)\n",
      "\u001b[0;31mNameError\u001b[0m: name 'field2_in' is not defined"
     ]
    }
   ],
   "source": [
    "NRUNS = 1\n",
    "for run in range(NRUNS):\n",
    "    print(f'Computing SHG field (run {run+1}/{NRUNS})...')\n",
    "    \n",
    "    field1 = modes1_in.copy()\n",
    "    field2 = modes2_in.copy()\n",
    "    \n",
    "    field2_res = modes2_in.copy()\n",
    "    \n",
    "    gain1 = np.zeros_like(field1)\n",
    "    gain2 = np.zeros_like(field2)\n",
    "    \n",
    "\n",
    "    for p,i in enumerate(reversed(range(SHAPE[0]))):\n",
    "        print_progress(p,SHAPE[0])\n",
    "\n",
    "\n",
    "\n",
    "        # propagate both fields to mid plane\n",
    "        field1h = dotmv(matrices1[i],field1)\n",
    "        field2h = dotmv(matrices2[i],field2)\n",
    "        \n",
    "        field2h = modes2field(mode_mask2, field2h)\n",
    "        \n",
    "        field6h = hevec(field1h, hzez1[i])\n",
    "        field6h = modes2field(mode_mask1, field6h)\n",
    "        \n",
    "        E = tmm.Evec(field2fvec(field6h))\n",
    "        \n",
    "\n",
    "\n",
    "        #field1h+=field2h\n",
    "        \n",
    "        # obtain E vector\n",
    "        #E[...,0] = field1h[...,0]\n",
    "        #E[...,1] = field1h[...,1]\n",
    "        #EH = tmm.EHz(field1h,BETA,PHI, epsilon1[i], angles[i])   \n",
    "        #E[...,2] = EH[...,0]\n",
    "\n",
    "        #obtain rotation matrix \n",
    "        r = rotation_matrix(angles[i])\n",
    "        rT = np.swapaxes(r,-1,-2) #transpose\n",
    "        rT = rT[...,None,:,:] #add extra axis for broadcasting\n",
    "        # rotate field to eigenframe        \n",
    "        E = rotate_vector(rT, E)\n",
    "        \n",
    "        # compute nl susceptibility tensor\n",
    "        chi2_eff = matrix2tensor(dotchi2v(CHI2,E))\n",
    "\n",
    "        # add perturbation to epsilon tensor of the SH wavlength\n",
    "        epsilon_nl = epsilon2[i] + chi2_eff/2 \n",
    "        #epsilon_nl = epsilon1[i] + chi2_eff \n",
    "        # compute perturbed layer matrix\n",
    "    \n",
    "        lmat2 = transfer_mat(K02_PIXEL * DPIXEL /2, epsilon_nl  ,angles[i][...,None,:], BETA, PHI)\n",
    "        lmat2_ref = transfer_mat(-K02_PIXEL * DPIXEL /2, epsilon2[i]  ,angles[i][...,None,:], BETA, PHI)\n",
    "        #lmat2 = layer_mat(-kds1[i]/2, epsilon_nl  ,angles[i])\n",
    "        \n",
    "        lmat2 = dotmm(lmat2_ref = lmat2)\n",
    "\n",
    "        # propagate reference field and perturbed fields\n",
    "        #field_ref2 = dotmf(lmat2_ref, field6h[...,1:-1,:,:])\n",
    "        #field_ref2 = dotmv(lmat1_ref, field1h)\n",
    "        field_nlo2 = dotmf(lmat2, field6h[...,1:-1,:,:])\n",
    "\n",
    "        # difference is the excited SHG field. Times 2 \n",
    "        #dif2 = (field_nlo2 - field_ref2)*2\n",
    "        dif2 = (field_nlo2 - field6h[...,1:-1,:,:])*2\n",
    "                \n",
    "        chi2_eff = matrix2tensor(dotchi2v(CHI2,E.conj()))\n",
    "    \n",
    "        epsilon_nl = epsilon1[i] +  chi2_eff \n",
    "    \n",
    "    \n",
    "        #lmat1 = transfer_mat(kds1[i]/2, epsilon_nl  ,angles[i])\n",
    "        lmat1 = transfer_mat(K01_PIXEL * DPIXEL /2, epsilon_nl  ,angles[i][...,None,:], BETA, PHI)\n",
    "        lmat1_ref = transfer_mat(-K01_PIXEL * DPIXEL /2, epsilon1[i]  ,angles[i][...,None,:], BETA, PHI)\n",
    "        \n",
    "        lmat1 = dotmm(lmat1_ref, lmat1)\n",
    "        \n",
    "        #lmat1 = layer_mat(-kds2[i]/2, epsilon_nl  ,angles[i])\n",
    "        #lmat1s = layer_mat(kds1[i]/2, epsilon1[i]  ,angles[i])         \n",
    "        #field_ref1 = dotmf(lmat1_ref, field2h)\n",
    "        #field_ref1 = dotmv(lmat2_ref, field2h)\n",
    "        field_nlo1 = dotmf(lmat1, field2h)\n",
    "        \n",
    "        #dif1 = (field_nlo1 - field_ref1)*2\n",
    "        dif1 = (field_nlo1 - field2h)*2\n",
    "        \n",
    "        _,dif1 = field2modes( dif1, K01_PIXEL, mask = mode_mask1)\n",
    "        _,dif2 = field2modes(dif2 , K02_PIXEL, mask = mode_mask2)\n",
    "        \n",
    "    \n",
    "\n",
    "        #dif2 = dotmv(lmat2_ref, dif2)\n",
    "        #dif1 = dotmv(lmat1_ref, dif1)\n",
    "\n",
    "        #dif1 = dif1.conj()\n",
    "        lmat2_ref = matrices2[i]\n",
    "        lmat1_ref = matrices1[i]\n",
    "        \n",
    "        dif2 = dotmv(lmat2_ref, dif2)\n",
    "        dif1 = dotmv(lmat1_ref, dif1)\n",
    "        \n",
    "        lmat2_ref = dotmm(lmat2_ref,lmat2_ref)\n",
    "        lmat1_ref = dotmm(lmat1_ref,lmat1_ref)\n",
    "        \n",
    "        gain1 = dotmv(lmat1_ref, gain1)\n",
    "        gain2 = dotmv(lmat2_ref, gain2)\n",
    "        \n",
    "        field1 = dotmv(lmat1_ref, field1)\n",
    "        field2 = dotmv(lmat2_ref, field2)\n",
    "        \n",
    "        field2_res = dotmv(lmat2_ref, field2_res)\n",
    "    \n",
    "        gain1 += dif1\n",
    "        field1 += dif1\n",
    "        \n",
    "        gain2 += dif2\n",
    "        field2 += dif2\n",
    "        \n",
    "\n",
    "        \n",
    "    print_progress(SHAPE[0],SHAPE[0])\n",
    "    \n",
    "\n",
    " \n",
    "    amplg1= fvec2avec(gain1,fmat1)\n",
    "    amplg2 = fvec2avec(gain2,fmat2)\n",
    "    \n",
    "\n",
    "    modes2_out = reflect(modes2_in, rmat2, fmatin = fmat2, fmatout = fmat2, gvecout = gain2)\n",
    "    modes1_out = reflect(modes1_in, rmat1, fmatin = fmat1, fmatout = fmat1, gvecout = gain1)   \n",
    "    \n",
    "    ampl1_in = fvec2avec(modes1_in,fmat1)\n",
    "    ampl1_out = fvec2avec(modes1_out,fmat1)\n",
    "\n",
    "    intensity1r = np.abs(ampl1_in[...,1])**2 + np.abs(ampl1_in[...,3])**2\n",
    "    intensity1r/=Z0\n",
    "    intensity1t = np.abs(ampl1_out[...,0])**2 + np.abs(ampl1_out[...,2])**2\n",
    "    intensity1t/=Z0\n",
    "    \n",
    "    ampl2_in = fvec2avec(field2_in,f02)\n",
    "    ampl2_out = fvec2avec(field2_out,f02)\n",
    "\n",
    "    residual_gain1_power = (np.abs(amplg1 - ampl1_out)**2).sum(axis=-1)\n",
    "    residual_gain2_power = (np.abs(amplg2 - ampl2_out)**2).sum(axis=-1)\n",
    "    \n",
    "    #print(\"relative residual gain1\",((residual_gain1_power/intensities).mean()))\n",
    "    #print(\"relative residual gain2\",((residual_gain2_power/intensities).mean()))\n",
    "    print(\"field2 diff\", (np.abs(field2_out-gain2-field2_res)**2).std())\n",
    "    \n",
    "    \n",
    "    \n",
    "    intensity2r = np.abs(ampl2_in[...,1])**2 + np.abs(ampl2_in[...,3])**2\n",
    "    intensity2r/=Z0\n",
    "    intensity2t = np.abs(ampl2_out[...,0])**2 + np.abs(ampl2_out[...,2])**2\n",
    "    intensity2t/=Z0\n",
    "    \n",
    "    total_intensity = intensity1t+intensity1r+intensity2t+intensity2r\n",
    "\n",
    "    loss = (total_intensity - intensities)/intensities\n",
    "    print('Intensity relative loss std', loss.std())\n",
    "\n",
    "#plt.imshow(total_intensity[0,0], origin = 'lower',cmap = 'gray')#, vmin = 0, vmax = INTENSITY)\n",
    "#plt.title('Total intensity It1+It2+Ir1+Ir2')\n",
    "#plt.colorbar()\n",
    "print('Done!')"
   ]
  },
  {
   "cell_type": "markdown",
   "id": "7883c10e-c079-4273-aba8-79beb1e4ae4c",
   "metadata": {
    "tags": []
   },
   "source": [
    "# Planewave Calculation\n",
    "\n",
    "## Data Initialization\n",
    "\n",
    "In the initialization step we construct the epsilon tensor, field amplitudes and take care of broadcasting. Depending on the selected analysis mode, the output data is of different shape. See the analysis section for details."
   ]
  },
  {
   "cell_type": "code",
   "execution_count": 48,
   "id": "a07ec489-2eeb-44d8-b1fc-8d76d3806741",
   "metadata": {},
   "outputs": [],
   "source": [
    "modes2_out = reflect(modes2_in, rmat2, fmatin = fmat2, fmatout = fmat2, gvecout = gain2)\n",
    "modes1_out = reflect(modes1_in, rmat1, fmatin = fmat1, fmatout = fmat1, gvecout = gain1) \n",
    "\n",
    "field2_out = modes2field(mode_mask2, modes2_out)\n",
    "field1_out = modes2field(mode_mask1, modes1_out)\n",
    "\n",
    "\n",
    "\n",
    "#transfer_mat(K02 * DPIXEL /2, epsilon_nl  ,angles[i], BETA, PHI)"
   ]
  },
  {
   "cell_type": "code",
   "execution_count": 60,
   "id": "49292d02-acd8-417b-bd2b-815d9c192310",
   "metadata": {},
   "outputs": [
    {
     "data": {
      "text/plain": [
       "<matplotlib.image.AxesImage at 0x7fc6ac609220>"
      ]
     },
     "execution_count": 60,
     "metadata": {},
     "output_type": "execute_result"
    },
    {
     "data": {
      "image/png": "[encoded data removed]",
      "text/plain": [
       "<Figure size 432x288 with 1 Axes>"
      ]
     },
     "metadata": {
      "needs_background": "light"
     },
     "output_type": "display_data"
    }
   ],
   "source": [
    "plt.imshow(field2poynting(field1_out)[0,0])\n",
    "plt.imshow(field2poynting(field2_out)[0,0])"
   ]
  },
  {
   "cell_type": "code",
   "execution_count": 61,
   "id": "8e6f9937-3ca0-45c1-a548-f5a7bbd3e90a",
   "metadata": {},
   "outputs": [
    {
     "name": "stdout",
     "output_type": "stream",
     "text": [
      "Initializing for \"image\" mode.\n",
      "Done!\n"
     ]
    }
   ],
   "source": [
    "set_analysis_mode('image')\n",
    "\n",
    "print(f'Initializing for \"{MODE}\" mode.')\n",
    "    \n",
    "if MODE == 'wavelength':\n",
    "    \n",
    "    jones = np.asarray(POLARIZATIONS)[:,None,:] \n",
    "    intensities = np.asarray(INTENSITIES)[None,:]\n",
    "    \n",
    "    f01 = field_mat(EPSILON0[None,:], ANGLES0[None,:], BETA, PHI)\n",
    "    f02 = field_mat(EPSILON0[None,:], ANGLES0[None,:], BETA, PHI)\n",
    "        \n",
    "    # Jones vector representation of the fundamental input beam in unitless amplitude notation.\n",
    "    ampl = np.zeros((len(POLARIZATIONS),len(WAVELENGTHS), 4), dtype = CDTYPE)\n",
    "    ampl[...] = avec(jones, amplitude = (intensities*Z0)**0.5)\n",
    "\n",
    "    # epsilon tensors of fundamental and shg waves\n",
    "    # we use numpy broadcasting rules here, so we add two empty axes  to match the angles array shape\n",
    "    epsilon1 = np.zeros((SHAPE[0],len(WAVELENGTHS),6))\n",
    "    epsilon1[...,0] = n1(WAVELENGTHS)**2\n",
    "    epsilon1[...,1] = n2(WAVELENGTHS)**2\n",
    "    epsilon1[...,2] = n3(WAVELENGTHS)**2\n",
    "    \n",
    "    epsilon2 = np.zeros((SHAPE[0],len(WAVELENGTHS),6))\n",
    "    epsilon2[...,0] = n1(WAVELENGTHS/2)**2\n",
    "    epsilon2[...,1] = n2(WAVELENGTHS/2)**2\n",
    "    epsilon2[...,2] = n3(WAVELENGTHS/2)**2\n",
    "    \n",
    "    angles = np.ones((SHAPE[0],1,3)) \n",
    "    angles[:,0] = ANGLES[:,I,J]\n",
    "    \n",
    "    # normalized layer thickness of fundamental and shg waves\n",
    "    kds1 = np.array((K01S,)* SHAPE[0])\n",
    "    kds2 = np.array((K02S,)* SHAPE[0])\n",
    "\n",
    "    E = np.empty((len(POLARIZATIONS),len(WAVELENGTHS),3), dtype = CDTYPE)\n",
    "\n",
    "\n",
    "elif MODE == 'image':\n",
    "\n",
    "    jones = np.asarray(POLARIZATIONS) \n",
    "    jones = jones[:,None,None,:] #add dummy axes for broadcasting\n",
    "    \n",
    "    f01 = field_mat(EPSILON0[None,None,:], ANGLES0[None,None,:],BETA, PHI)\n",
    "    f02 = field_mat(EPSILON0[None,None,:], ANGLES0[None,None,:], BETA, PHI)\n",
    "        \n",
    "    # Jones vector representation of the fundamental input beam in unitless amplitude notation.\n",
    "    ampl = np.zeros((len(POLARIZATIONS),SHAPE[1],SHAPE[2], 4), dtype = CDTYPE)\n",
    "    ampl[...,0] = jones[...,0] * (INTENSITY*Z0)**0.5\n",
    "    ampl[...,2] = jones[...,1] * (INTENSITY*Z0)**0.5\n",
    "    \n",
    "    \n",
    "    # epsilon tensors of fundamental and shg waves\n",
    "    # we use numpy broadcasting rules here, so we add two empty axes  to match the angles array shape\n",
    "    epsilon1 = np.zeros((SHAPE[0],1,1,6))\n",
    "    epsilon1[...,0] = n1(WAVELENGTH)**2\n",
    "    epsilon1[...,1] = n2(WAVELENGTH)**2\n",
    "    epsilon1[...,2] = n3(WAVELENGTH)**2\n",
    "    \n",
    "    epsilon2 = np.zeros((SHAPE[0],1,1,6))\n",
    "    epsilon2[...,0] = n1(WAVELENGTH/2)**2\n",
    "    epsilon2[...,1] = n2(WAVELENGTH/2)**2\n",
    "    epsilon2[...,2] = n3(WAVELENGTH/2)**2\n",
    "    \n",
    "    # normalized layer thickness of fundamental and shg waves\n",
    "    kds1 = np.array((K01,)* SHAPE[0])[:,None,None]\n",
    "    kds2 = np.array((K02,)* SHAPE[0])[:,None,None]\n",
    "\n",
    "    angles = ANGLES\n",
    "\n",
    "    intensities = INTENSITY\n",
    "\n",
    "    \n",
    "    E = np.empty((len(POLARIZATIONS),SHAPE[1],SHAPE[2],3), dtype = CDTYPE)\n",
    "\n",
    "\n",
    "elif MODE == 'full':\n",
    "    jones = np.asarray(POLARIZATIONS) #must be a normalized jones vector! \n",
    "    jones = jones[:,None,None,None,:] #add dummy axes for broadcasting\n",
    "    \n",
    "    f01 = field_mat(EPSILON0[None,None,None,None,:], ANGLES0[None,None,None,None,:], BETA, PHI)\n",
    "    f02 = field_mat(EPSILON0[None,None,None,None,:], ANGLES0[None,None,None,None,:],BETA, PHI)\n",
    "    \n",
    "    intensities = np.asarray(INTENSITIES)[None,:,None,None]\n",
    "\n",
    "    \n",
    "    # Jones vector representation of the fundamental input beam in unitless amplitude notation.\n",
    "    ampl = np.zeros((len(POLARIZATIONS),len(WAVELENGTHS), SHAPE[1],SHAPE[2], 4), dtype = CDTYPE)\n",
    "    ampl[...,0] = jones[...,0] * (intensities*Z0)**0.5\n",
    "    ampl[...,2] = jones[...,1] * (intensities*Z0)**0.5\n",
    "    \n",
    "    # epsilon tensors of fundamental and shg waves\n",
    "    # we use numpy broadcasting rules here, so we add two empty axes  to match the angles array shape\n",
    "    epsilon1 = np.zeros((SHAPE[0],1,1,1,6))\n",
    "    epsilon1[...,0] = n1(WAVELENGTH)**2\n",
    "    epsilon1[...,1] = n2(WAVELENGTH)**2\n",
    "    epsilon1[...,2] = n3(WAVELENGTH)**2\n",
    "    \n",
    "    epsilon2 = np.zeros((SHAPE[0],1,1,6))\n",
    "    epsilon2[...,0] = n1(WAVELENGTH/2)**2\n",
    "    epsilon2[...,1] = n2(WAVELENGTH/2)**2\n",
    "    epsilon2[...,2] = n3(WAVELENGTH/2)**2\n",
    "    \n",
    "    # normalized layer thickness of fundamental and shg waves\n",
    "    kds1 = np.array((K01S,)* SHAPE[0])[:,None,:,None,None]\n",
    "    kds2 = np.array((K02S,)* SHAPE[0])[:,None,:,None,None]\n",
    "\n",
    "    angles = ANGLES\n",
    "\n",
    "    E = np.empty((len(POLARIZATIONS),len(WAVELENGTHS),SHAPE[1],SHAPE[2],3), dtype = CDTYPE)\n",
    "\n",
    "\n",
    "else:\n",
    "    raise ValueError(f'Unknown mode {MODE}')\n",
    "print(\"Done!\")"
   ]
  },
  {
   "cell_type": "markdown",
   "id": "b9f0cd98-8f92-4c72-aad7-586edef07a27",
   "metadata": {},
   "source": [
    "## Fundamental wave\n",
    "\n",
    "First, one has to compute the fundamental mode. We use the 4x4 matrix formalism to build the matrices, compute the total transfer matrix, the reflection matrices and the output field. The computed ouptut field serves as an input for the SHG calculation step. Pay attention to the 'Intensity relative loss standard deviation' calculated at the end, which should be a really small number. It is a measure of energy conservation violation. In nonabsorbing samples it should be close to zero. "
   ]
  },
  {
   "cell_type": "code",
   "execution_count": null,
   "id": "d28772de-20a5-4fa4-abf2-a032f2a674a3",
   "metadata": {},
   "outputs": [],
   "source": []
  },
  {
   "cell_type": "code",
   "execution_count": 62,
   "id": "b4638bc5-a69d-43ca-aad0-d6080be3108f",
   "metadata": {},
   "outputs": [
    {
     "name": "stdout",
     "output_type": "stream",
     "text": [
      "Building layer matrices of the fundamental wave\n",
      "Building HzEz matrices\n",
      "Building layer matrices of the shg wave\n",
      "Calculating stack matrices\n",
      "Calculating system matrices\n",
      "Calculating reflection matrices\n",
      "Transferring fundamental field\n",
      "Done!\n",
      "\n",
      "Intensity relative loss standard deviation 5.086202192090225e-14\n"
     ]
    }
   ],
   "source": [
    "print('Building layer matrices of the fundamental wave')\n",
    "# we propagate forward and only half step so that we can access mid-plane \n",
    "#matrices1 = [layer_mat(-kds1[i]/2, epsilon1[i],angles[i], BETA,PHI) for i in range(SHAPE[0])]\n",
    "matrices1 = [transfer_mat(kds1[i]/2, epsilon1[i],angles[i], BETA,PHI) for i in range(SHAPE[0])]\n",
    "print(\"Building HzEz matrices\")\n",
    "hzez1 = hzez_mat(epsilon1, angles, BETA, PHI)\n",
    "print('Building layer matrices of the shg wave')\n",
    "#matrices2 = [layer_mat(-kds2[i]/2, epsilon2[i],angles[i], BETA,PHI) for i in range(SHAPE[0])]\n",
    "matrices2 = [transfer_mat(kds2[i]/2, epsilon2[i],angles[i], BETA,PHI) for i in range(SHAPE[0])]\n",
    "print('Calculating stack matrices')\n",
    "# we apply each matrix twice because these are half-layer matrices\n",
    "stack_matrix1 = multi_dot((dotmm(m,m) for m in matrices1))\n",
    "stack_matrix2 = multi_dot((dotmm(m,m)  for m in matrices2))\n",
    "print('Calculating system matrices')\n",
    "smat1 = system_mat(stack_matrix1, f01,f01, transfer = \"forward\")\n",
    "smat2 = system_mat(stack_matrix2, f02,f02, transfer = \"forward\")\n",
    "print('Calculating reflection matrices')\n",
    "rmat1 = reflection_mat(smat1,transfer = 'forward')\n",
    "rmat2 = reflection_mat(smat2,transfer = 'forward')\n",
    "\n",
    "print('Transferring fundamental field')\n",
    "# convert from amplitude coefficients to EH field vector\n",
    "field1_in = avec2fvec(ampl,f01)\n",
    "field2_in = np.zeros_like(field1_in)\n",
    "\n",
    "# compute output field, also modifies the input field to add reflected part\n",
    "field1_out = reflect(field1_in, rmat1,fmatin = f01, fmatout = f01)\n",
    "field2_out = reflect(field2_in, rmat2,fmatin = f02, fmatout = f02)\n",
    "\n",
    "# convert to amplitude coefficients\n",
    "ampl1_in = fvec2avec(field1_in,f01)\n",
    "ampl1_out = fvec2avec(field1_out,f01)\n",
    "\n",
    "# reflected field intensity\n",
    "intensity1r = np.abs(ampl1_in[...,1])**2 + np.abs(ampl1_in[...,3])**2\n",
    "intensity1r/=Z0\n",
    "\n",
    "# transmitted field intensity\n",
    "intensity1t = np.abs(ampl1_out[...,0])**2 + np.abs(ampl1_out[...,2])**2\n",
    "intensity1t/=Z0\n",
    "\n",
    "# this should be zero except for a small numerical error.\n",
    "loss = (intensity1t+intensity1r - intensities)/intensities\n",
    "\n",
    "#plt.imshow(loss[0,0], origin = 'lower',cmap = 'gray')#, vmin = 0, vmax = INTENSITY)\n",
    "#plt.title('Total intensity relative loss')\n",
    "#plt.colorbar()\n",
    "print('Done!')\n",
    "print()\n",
    "print('Intensity relative loss standard deviation', loss.std())"
   ]
  },
  {
   "cell_type": "markdown",
   "id": "58028458-18d1-4994-bcd4-a5359ed53b4b",
   "metadata": {},
   "source": [
    "## SHG wave \n",
    "\n",
    "Once the fundamental field was calculated, you can run the SHG calculation step. It takes the ouptut field and propagates it back through the sample, creating SHG field. If depletion of the fundamental beam is not weak one should perform multiple SHG compuation steps. Each time we run this, we start with the fields computed from the previous run. "
   ]
  },
  {
   "cell_type": "code",
   "execution_count": 67,
   "id": "edc29ec6-9708-44db-a23a-1a06abfa3410",
   "metadata": {
    "tags": []
   },
   "outputs": [
    {
     "name": "stdout",
     "output_type": "stream",
     "text": [
      "Computing SHG field (run 1/2)...\n",
      " |==================================================| 100.0% \n",
      "field2 diff 1.7227459803674883e-08\n",
      "Intensity relative loss std 5.0816874694645915e-14\n",
      "Computing SHG field (run 2/2)...\n",
      " |==================================================| 100.0% \n",
      "field2 diff 2.453192303207297e-21\n",
      "Intensity relative loss std 5.081697233039569e-14\n",
      "Done!\n"
     ]
    }
   ],
   "source": [
    "NRUNS = 2\n",
    "\n",
    "for run in range(NRUNS):\n",
    "    print(f'Computing SHG field (run {run+1}/{NRUNS})...')\n",
    "    \n",
    "    field1 = field1_in.copy()\n",
    "    field2 = field2_in.copy()\n",
    "    \n",
    "    field2_res = field2_in.copy()\n",
    "    \n",
    "    gain1 = np.zeros_like(field1)\n",
    "    gain2 = np.zeros_like(field2)\n",
    "    \n",
    "\n",
    "    for p,i in enumerate(reversed(range(SHAPE[0]))):\n",
    "        print_progress(p,SHAPE[0])\n",
    "\n",
    "        lmat2_ref = matrices2[i]\n",
    "        lmat1_ref = matrices1[i]\n",
    "\n",
    "        # propagate both fields to mid plane\n",
    "        field1h = dotmv(lmat1_ref,field1)\n",
    "        field2h = dotmv(lmat2_ref,field2)\n",
    "        \n",
    "        field6h = hevec(field1h, hzez1[i])\n",
    "        E = tmm.Evec(field6h)\n",
    "\n",
    "        #field1h+=field2h\n",
    "        \n",
    "        # obtain E vector\n",
    "        #E[...,0] = field1h[...,0]\n",
    "        #E[...,1] = field1h[...,1]\n",
    "        #EH = tmm.EHz(field1h,BETA,PHI, epsilon1[i], angles[i])   \n",
    "        #E[...,2] = EH[...,0]\n",
    "\n",
    "        #obtain rotation matrix \n",
    "        r = rotation_matrix(angles[i])\n",
    "        rT = np.swapaxes(r,-1,-2) #transpose\n",
    "        # rotate field to eigenframe        \n",
    "        E = rotate_vector(rT, E)\n",
    "        \n",
    "        # compute nl susceptibility tensor\n",
    "        chi2_eff = matrix2tensor(dotchi2v(CHI2,E))\n",
    "\n",
    "        # add perturbation to epsilon tensor of the SH wavlength\n",
    "        epsilon_nl = epsilon2[i] + chi2_eff/2 \n",
    "        #epsilon_nl = epsilon1[i] + chi2_eff \n",
    "        # compute perturbed layer matrix\n",
    "    \n",
    "        lmat2 = transfer_mat(kds2[i]/2, epsilon_nl  ,angles[i])\n",
    "        \n",
    "        #lmat2 = dotmm(lmat2b,lmat2)\n",
    "        \n",
    "        #lmat2 = layer_mat(-kds1[i]/2, epsilon_nl  ,angles[i])\n",
    "\n",
    "        # propagate reference field and perturbed fields\n",
    "        field_ref2 = dotmv(lmat2_ref, field1h)\n",
    "        #field_ref2 = field1h\n",
    "        \n",
    "        #field_ref2 = dotmv(lmat1_ref, field1h)\n",
    "        field_nlo2 = dotmv(lmat2, field1h)\n",
    "\n",
    "        # difference is the excited SHG field. Times 2 \n",
    "        dif2 = (field_nlo2 - field_ref2)*2\n",
    "        #dif2 = dotmv(lmat2_ref, dif2)\n",
    "        \n",
    "        \n",
    "        chi2_eff = matrix2tensor(dotchi2v(CHI2,E.conj()))\n",
    "    \n",
    "        epsilon_nl = epsilon1[i] +  chi2_eff \n",
    "        \n",
    "\n",
    "    \n",
    "        lmat1 = transfer_mat(kds1[i]/2, epsilon_nl  ,angles[i])\n",
    "        #lmat1 = layer_mat(-kds2[i]/2, epsilon_nl  ,angles[i])\n",
    "        #lmat1s = layer_mat(kds1[i]/2, epsilon1[i]  ,angles[i])         \n",
    "        field_ref1 = dotmv(lmat1_ref, field2h)\n",
    "        #field_ref1 = dotmv(lmat2_ref, field2h)\n",
    "        field_nlo1 = dotmv(lmat1, field2h)\n",
    "        \n",
    "        dif1 = (field_nlo1 - field_ref1)*2\n",
    "\n",
    "        #dif2 = dotmv(lmat2_ref, dif2)\n",
    "        #dif1 = dotmv(lmat1_ref, dif1)\n",
    "\n",
    "        #dif1 = dif1.conj()\n",
    "        lmat2_ref = dotmm(lmat2_ref,lmat2_ref)\n",
    "        lmat1_ref = dotmm(lmat1_ref,lmat1_ref)\n",
    "        \n",
    "        gain1 = dotmv(lmat1_ref, gain1)\n",
    "        gain2 = dotmv(lmat2_ref, gain2)\n",
    "        \n",
    "        field1 = dotmv(lmat1_ref, field1)\n",
    "        field2 = dotmv(lmat2_ref, field2)\n",
    "        \n",
    "        field2_res = dotmv(lmat2_ref, field2_res)\n",
    "    \n",
    "        gain1 += dif1\n",
    "        field1 += dif1\n",
    "        \n",
    "        gain2 += dif2\n",
    "        field2 += dif2\n",
    "        \n",
    "    print_progress(SHAPE[0],SHAPE[0])\n",
    "    \n",
    "\n",
    " \n",
    "    amplg1= fvec2avec(gain1,f01)\n",
    "    amplg2 = fvec2avec(gain2,f01)\n",
    "    \n",
    "\n",
    "    field2_out = reflect(field2_in, rmat2, fmatin = f02, fmatout = f02, gvecout = gain2)\n",
    "    field1_out = reflect(field1_in, rmat1, fmatin = f01, fmatout = f01, gvecout = gain1)   \n",
    "    \n",
    "    ampl1_in = fvec2avec(field1_in,f01)\n",
    "    ampl1_out = fvec2avec(field1_out,f01)\n",
    "\n",
    "\n",
    "    intensity1r = np.abs(ampl1_in[...,1])**2 + np.abs(ampl1_in[...,3])**2\n",
    "    intensity1r/=Z0\n",
    "    intensity1t = np.abs(ampl1_out[...,0])**2 + np.abs(ampl1_out[...,2])**2\n",
    "    intensity1t/=Z0\n",
    "    \n",
    "    ampl2_in = fvec2avec(field2_in,f02)\n",
    "    ampl2_out = fvec2avec(field2_out,f02)\n",
    "\n",
    "    residual_gain1_power = (np.abs(amplg1 - ampl1_out)**2).sum(axis=-1)\n",
    "    residual_gain2_power = (np.abs(amplg2 - ampl2_out)**2).sum(axis=-1)\n",
    "    \n",
    "    #print(\"relative residual gain1\",((residual_gain1_power/intensities).mean()))\n",
    "    #print(\"relative residual gain2\",((residual_gain2_power/intensities).mean()))\n",
    "    print(\"field2 diff\", (np.abs(field2_out-gain2-field2_res)**2).std())\n",
    "    \n",
    "    \n",
    "    \n",
    "    intensity2r = np.abs(ampl2_in[...,1])**2 + np.abs(ampl2_in[...,3])**2\n",
    "    intensity2r/=Z0\n",
    "    intensity2t = np.abs(ampl2_out[...,0])**2 + np.abs(ampl2_out[...,2])**2\n",
    "    intensity2t/=Z0\n",
    "    \n",
    "    total_intensity = intensity1t+intensity1r+intensity2t+intensity2r\n",
    "\n",
    "    loss = (total_intensity - intensities)/intensities\n",
    "    print('Intensity relative loss std', loss.std())\n",
    "\n",
    "#plt.imshow(total_intensity[0,0], origin = 'lower',cmap = 'gray')#, vmin = 0, vmax = INTENSITY)\n",
    "#plt.title('Total intensity It1+It2+Ir1+Ir2')\n",
    "#plt.colorbar()\n",
    "print('Done!')"
   ]
  },
  {
   "cell_type": "markdown",
   "id": "c4ebc436-625b-48fe-be1d-ef3f72aff2a4",
   "metadata": {
    "tags": []
   },
   "source": [
    "## Image analysis\n",
    "\n",
    "### Wave intensity"
   ]
  },
  {
   "cell_type": "code",
   "execution_count": 19,
   "id": "03645c7c-99c8-400b-8674-61eef2daa69f",
   "metadata": {},
   "outputs": [
    {
     "name": "stdout",
     "output_type": "stream",
     "text": [
      "Automatic pdb calling has been turned OFF\n"
     ]
    }
   ],
   "source": [
    "pdb"
   ]
  },
  {
   "cell_type": "code",
   "execution_count": 68,
   "id": "2980dd7d-4616-46e6-b2ca-afd9bc31d335",
   "metadata": {},
   "outputs": [
    {
     "data": {
      "text/plain": [
       "<matplotlib.colorbar.Colorbar at 0x7fc6aab54c40>"
      ]
     },
     "execution_count": 68,
     "metadata": {},
     "output_type": "execute_result"
    },
    {
     "data": {
      "image/png": "[encoded data removed]",
      "text/plain": [
       "<Figure size 432x288 with 2 Axes>"
      ]
     },
     "metadata": {
      "needs_background": "light"
     },
     "output_type": "display_data"
    },
    {
     "data": {
      "image/png": "[encoded data removed]",
      "text/plain": [
       "<Figure size 432x288 with 2 Axes>"
      ]
     },
     "metadata": {
      "needs_background": "light"
     },
     "output_type": "display_data"
    },
    {
     "data": {
      "image/png": "[encoded data removed]",
      "text/plain": [
       "<Figure size 432x288 with 2 Axes>"
      ]
     },
     "metadata": {
      "needs_background": "light"
     },
     "output_type": "display_data"
    },
    {
     "data": {
      "image/png": "[encoded data removed]",
      "text/plain": [
       "<Figure size 432x288 with 2 Axes>"
      ]
     },
     "metadata": {
      "needs_background": "light"
     },
     "output_type": "display_data"
    },
    {
     "data": {
      "image/png": "[encoded data removed]",
      "text/plain": [
       "<Figure size 432x288 with 2 Axes>"
      ]
     },
     "metadata": {
      "needs_background": "light"
     },
     "output_type": "display_data"
    }
   ],
   "source": [
    "if MODE != 'image':\n",
    "    1/0\n",
    "    \n",
    "PINDEX = 0\n",
    "\n",
    "polname = polstr(POLARIZATIONS[PINDEX])\n",
    "extent = []\n",
    "\n",
    "plt.imshow(intensity1r[PINDEX], label = 'R', origin = 'lower',cmap = 'gray')\n",
    "plt.title(f'$R(\\omega_1)$ @ P = {polname}')\n",
    "plt.colorbar()\n",
    "plt.figure()\n",
    "plt.imshow(intensity1t[PINDEX], label = 'T', origin = 'lower',cmap = 'gray')\n",
    "plt.title(f'$T(\\omega_1)$ @ P = {polname}')\n",
    "plt.colorbar()\n",
    "plt.figure()\n",
    "plt.imshow(intensity2r[PINDEX], label = 'R', origin = 'lower',cmap = 'gray')\n",
    "plt.title(f'$R(\\omega_2)$ @ P = {polname}')\n",
    "plt.colorbar()\n",
    "plt.figure()\n",
    "plt.imshow(intensity2t[PINDEX], label = 'T', origin = 'lower',cmap = 'gray')\n",
    "plt.title(f'$T(\\omega_2)$ @ P = {polname}')\n",
    "plt.colorbar()\n",
    "plt.figure()\n",
    "plt.imshow(total_intensity[PINDEX], origin = 'lower',cmap = 'gray')\n",
    "plt.title('Total intensity')\n",
    "plt.colorbar()\n",
    "    "
   ]
  },
  {
   "cell_type": "markdown",
   "id": "6379b377-d4a9-4ecf-81d7-b79e38719be5",
   "metadata": {},
   "source": [
    "## Wavelength analysis"
   ]
  },
  {
   "cell_type": "code",
   "execution_count": 39,
   "id": "2b6b25ec-0155-4967-beca-ecf7a57b841a",
   "metadata": {},
   "outputs": [
    {
     "data": {
      "text/plain": [
       "<matplotlib.legend.Legend at 0x7fee58cc14c0>"
      ]
     },
     "execution_count": 39,
     "metadata": {},
     "output_type": "execute_result"
    },
    {
     "data": {
      "image/png": "[encoded data removed]",
      "text/plain": [
       "<Figure size 432x288 with 1 Axes>"
      ]
     },
     "metadata": {
      "needs_background": "light"
     },
     "output_type": "display_data"
    }
   ],
   "source": [
    "if MODE != 'wavelength':\n",
    "    1/0\n",
    "    \n",
    "PINDEX = 0\n",
    "def theory1(wavelength, intensity):\n",
    "    new = ne(wavelength)\n",
    "    ne2w = ne(wavelength/2)+0.000000001\n",
    "    lamb = wavelength * 1e-9\n",
    "    \n",
    "    deltak = 4 * np.pi * (ne2w- new)/lamb \n",
    "    c = 3e8\n",
    "    eps0 = 8.85e-12\n",
    "\n",
    "    return intensity**2 *32* np.pi**2 * D33**2 / lamb**2 / c/eps0/new**2/ne2w *np.sin(deltak * THICKNESS/2*1e-6)**2/(deltak**2)\n",
    "\n",
    "def theory2(wavelength, intensity):\n",
    "    new = ne(wavelength)\n",
    "    ne2w = ne(wavelength/2) \n",
    "    lamb = wavelength * 1e-9\n",
    "    L = THICKNESS *1e-6\n",
    "    k = 2*np.pi/ lamb\n",
    "    \n",
    "    deltakl = k* (ne2w- new)* L\n",
    "    c = 3e8\n",
    "    eps0 = 8.85e-12\n",
    "\n",
    "    Ew2 = 2*intensity/c/eps0/new\n",
    "\n",
    "    E2w = Ew2**0.5*np.tanh(k*L*D33* Ew2**0.5/ne2w)\n",
    "\n",
    "    return 0.5*eps0*c*ne2w * E2w**2\n",
    "\n",
    "import scipy.special \n",
    "\n",
    "def theory3(wavelength, intensity):\n",
    "    \"\"\"SHG  intensity, general analytical expression with depletion\"\"\"\n",
    "    new = ne(wavelength)\n",
    "    now = no(wavelength)\n",
    "    ne2w = ne(wavelength/2) #+ 0.000000001\n",
    "    no2w = no(wavelength/2) #+ 0.000000001\n",
    "    \n",
    "    lamb = wavelength * 1e-9\n",
    "    L = THICKNESS *1e-6\n",
    "    k = 2*np.pi/ lamb\n",
    "    \n",
    "    deltak = k* (ne2w - new)*2\n",
    "    c = 3e8\n",
    "    eps0 = 8.85e-12\n",
    "\n",
    "    #fact = (eps0*c*ne2w/2/intensity)**0.5 *new*lamb/4/D33\n",
    "    fact = (eps0*c*ne2w/2/intensity)**0.5 *new*lamb/D33/np.pi/2\n",
    "\n",
    "\n",
    "    deltar = fact *deltak\n",
    "\n",
    "    \n",
    "\n",
    "    c = deltar/2*(1+(deltar**2)/16)**0.5\n",
    " \n",
    "    # case low depletion... using taylor expension for a\n",
    "    a =  2/deltar\n",
    "    mask = a > 0.001\n",
    "    \n",
    "    # case meaningful depletion, analytic expression for a\n",
    "    a[mask] = (1+(deltar[mask]**2)/8-c[mask])**0.5\n",
    "        \n",
    "    b = (1+(deltar**2)/8+c)**0.5\n",
    "\n",
    "\n",
    "\n",
    "    u = b/fact*L\n",
    "    m = a/b\n",
    "    sn,_,_,_ = scipy.special.ellipj(u, a/b)\n",
    "\n",
    "    return intensity * a**2* sn**2\n",
    "\n",
    "\n",
    "\n",
    "plt.plot((WAVELENGTHS), intensity2t[PINDEX]+intensity2r[PINDEX], label = 'T+R')\n",
    "plt.plot((WAVELENGTHS), intensity2r[PINDEX], label = 'R')\n",
    "plt.plot((WAVELENGTHS), intensity2t[PINDEX], label = 'T')\n",
    "plt.plot(WAVELENGTHS, theory3(WAVELENGTHS,INTENSITY).real, label = 'theory3')\n",
    "plt.plot(WAVELENGTHS, theory1(WAVELENGTHS,INTENSITY), label = 'theory1')\n",
    "plt.plot()\n",
    "\n",
    "\n",
    "plt.ylabel('Intensity [W/m$^2$]')\n",
    "plt.legend()"
   ]
  },
  {
   "cell_type": "code",
   "execution_count": null,
   "id": "87a8170c-15b2-465a-82d6-ea26542ac6d5",
   "metadata": {},
   "outputs": [],
   "source": [
    "if MODE != 'full':\n",
    "    1/0\n",
    "    \n",
    "PINDEX = 0\n",
    "plt.imshow(intensity2r[PINDEX,0], label = 'R', origin = 'lower',cmap = 'gray')\n",
    "plt.colorbar()\n",
    "plt.figure()\n",
    "plt.imshow(intensity2t[PINDEX,0], label = 'T', origin = 'lower',cmap = 'gray')\n",
    "plt.colorbar()\n",
    "plt.figure()\n",
    "plt.imshow(intensity2t[PINDEX,0]+intensity2r[PINDEX,0], origin = 'lower',cmap = 'gray')\n",
    "plt.colorbar()"
   ]
  },
  {
   "cell_type": "code",
   "execution_count": 25,
   "id": "af299335-9bbb-4cd0-a93c-5432bafaf9fb",
   "metadata": {},
   "outputs": [
    {
     "data": {
      "text/plain": [
       "5.600000000000001e-06"
      ]
     },
     "execution_count": 25,
     "metadata": {},
     "output_type": "execute_result"
    }
   ],
   "source": []
  },
  {
   "cell_type": "code",
   "execution_count": 409,
   "id": "c8926ca1-821c-462b-a31b-bb85c7067305",
   "metadata": {},
   "outputs": [
    {
     "data": {
      "text/plain": [
       "0.7700857249078807"
      ]
     },
     "execution_count": 409,
     "metadata": {},
     "output_type": "execute_result"
    }
   ],
   "source": [
    "scipy.special.ellipj(1, 0.9)[0]"
   ]
  },
  {
   "cell_type": "code",
   "execution_count": 408,
   "id": "a40b6a9e-29c7-4123-9296-4bfc66ad7f85",
   "metadata": {},
   "outputs": [
    {
     "data": {
      "text/plain": [
       "0.7615941559557649"
      ]
     },
     "execution_count": 408,
     "metadata": {},
     "output_type": "execute_result"
    }
   ],
   "source": [
    "np.tanh(1)"
   ]
  },
  {
   "cell_type": "code",
   "execution_count": 74,
   "id": "c7bbeb0e-3d22-418a-a775-d76e2b1dab90",
   "metadata": {},
   "outputs": [
    {
     "data": {
      "text/plain": [
       "<matplotlib.legend.Legend at 0x7f994272eca0>"
      ]
     },
     "execution_count": 74,
     "metadata": {},
     "output_type": "execute_result"
    },
    {
     "data": {
      "image/png": "[encoded data removed]",
      "text/plain": [
       "<Figure size 432x288 with 1 Axes>"
      ]
     },
     "metadata": {
      "needs_background": "light"
     },
     "output_type": "display_data"
    }
   ],
   "source": [
    "if MODE != 'wavelength':\n",
    "    1/0\n",
    "    \n",
    "PINDEX = 0\n",
    "def theory1(wavelength, intensity):\n",
    "    new = ne(wavelength)\n",
    "    ne2w = ne(wavelength/2)+0.000000001\n",
    "    lamb = wavelength * 1e-9\n",
    "    \n",
    "    deltak = 4 * np.pi * (ne2w- new)/lamb \n",
    "    c = 3e8\n",
    "    eps0 = 8.85e-12\n",
    "\n",
    "    return intensity**2 *32* np.pi**2 * D33**2 / lamb**2 / c/eps0/new**2/ne2w *np.sin(deltak * THICKNESS/2*1e-6)**2/(deltak**2)\n",
    "\n",
    "def theory2(wavelength, intensity):\n",
    "    new = ne(wavelength)\n",
    "    ne2w = ne(wavelength/2) \n",
    "    lamb = wavelength * 1e-9\n",
    "    L = THICKNESS *1e-6\n",
    "    k = 2*np.pi/ lamb\n",
    "    \n",
    "    deltakl = k* (ne2w- new)* L\n",
    "    c = 3e8\n",
    "    eps0 = 8.85e-12\n",
    "\n",
    "    Ew2 = 2*intensity/c/eps0/new\n",
    "\n",
    "    E2w = Ew2**0.5*np.tanh(k*L*D33* Ew2**0.5/ne2w)\n",
    "\n",
    "    return 0.5*eps0*c*ne2w * E2w**2\n",
    "\n",
    "import scipy.special \n",
    "\n",
    "def theory3(wavelength, intensity):\n",
    "    \"\"\"SHG  intensity, general analytical expression with depletion\"\"\"\n",
    "    new = ne(wavelength)\n",
    "    now = no(wavelength)\n",
    "    ne2w = ne(wavelength/2) #+ 0.000000001\n",
    "    no2w = no(wavelength/2) #+ 0.000000001\n",
    "    \n",
    "    lamb = wavelength * 1e-9\n",
    "    L = THICKNESS *1e-6\n",
    "    k = 2*np.pi/ lamb\n",
    "    \n",
    "    deltak = k* (ne2w - new)*2\n",
    "    c = 3e8\n",
    "    eps0 = 8.85e-12\n",
    "\n",
    "    fact = (eps0*c*ne2w/2/intensity)**0.5 *new*lamb/4/D33\n",
    "    fact = (eps0*c*ne2w/2/intensity)**0.5 *new*lamb/D33/2/np.pi\n",
    "\n",
    "\n",
    "    deltar = fact *deltak\n",
    "\n",
    "    \n",
    "\n",
    "    c = deltar/2*(1+(deltar**2)/16)**0.5\n",
    " \n",
    "    # case low depletion... using taylor expension for a\n",
    "    a =  2/deltar\n",
    "    mask = a > 0.00001\n",
    "    \n",
    "    # case meaningful depletion, analytic expression for a\n",
    "    a[mask] = (1+(deltar[mask]**2)/8-c[mask])**0.5\n",
    "        \n",
    "    b = (1+(deltar**2)/8+c)**0.5\n",
    "\n",
    "\n",
    "\n",
    "    u = b/fact*L\n",
    "    m = a/b\n",
    "    sn,_,_,_ = scipy.special.ellipj(u, a/b)\n",
    "\n",
    "    return intensity * a**2* sn**2\n",
    "\n",
    "\n",
    "\n",
    "plt.plot((WAVELENGTHS), intensity2t[PINDEX]+intensity2r[PINDEX], label = 'T+R')\n",
    "plt.plot((WAVELENGTHS), intensity2r[PINDEX], label = 'R')\n",
    "plt.plot((WAVELENGTHS), intensity2t[PINDEX], label = 'T')\n",
    "plt.plot(WAVELENGTHS, theory3(WAVELENGTHS,INTENSITY).real, label = 'theory3')\n",
    "plt.plot(WAVELENGTHS, theory1(WAVELENGTHS,INTENSITY), label = 'theory1')\n",
    "plt.plot()\n",
    "\n",
    "plt.ylabel('Intensity [W/m$^2$]')\n",
    "plt.legend()"
   ]
  },
  {
   "cell_type": "code",
   "execution_count": 29,
   "id": "82c1520a-0b1f-4e0a-a50e-922cf8a9e03f",
   "metadata": {},
   "outputs": [
    {
     "data": {
      "text/plain": [
       "(array([ 1.   +0.j, -1.   +0.j,  0.001+0.j, -0.001+0.j]),\n",
       " array([[ 7.07106781e-01+0.j,  7.07106781e-01+0.j, -0.00000000e+00+0.j,\n",
       "          0.00000000e+00+0.j],\n",
       "        [ 7.07106781e-01+0.j, -7.07106781e-01+0.j, -0.00000000e+00+0.j,\n",
       "          0.00000000e+00+0.j],\n",
       "        [ 0.00000000e+00+0.j,  0.00000000e+00+0.j,  9.99999500e-01+0.j,\n",
       "          9.99999500e-01+0.j],\n",
       "        [ 0.00000000e+00+0.j,  0.00000000e+00+0.j, -9.99999500e-04+0.j,\n",
       "          9.99999500e-04+0.j]]))"
      ]
     },
     "execution_count": 29,
     "metadata": {},
     "output_type": "execute_result"
    }
   ],
   "source": [
    "import dtmm2.tmm\n",
    "dtmm2.tmm.alphaf(0,0,(1,0.000001,0.0000001,0.00000001))"
   ]
  },
  {
   "cell_type": "code",
   "execution_count": 1,
   "id": "58b61cab-f824-4b19-bcfa-12bf181d1737",
   "metadata": {},
   "outputs": [],
   "source": [
    "import dtmm2.tmm"
   ]
  },
  {
   "cell_type": "code",
   "execution_count": 29,
   "id": "00dffe26-98b5-46ed-ac10-8611eb3fc2a1",
   "metadata": {},
   "outputs": [
    {
     "data": {
      "text/plain": [
       "True"
      ]
     },
     "execution_count": 29,
     "metadata": {},
     "output_type": "execute_result"
    }
   ],
   "source": [
    "np.allclose(layer_mat(-1,(1,2,3),(1,2,3)),berreman_mat(1,(1,2,3),(1,2,3)) )"
   ]
  },
  {
   "cell_type": "code",
   "execution_count": 35,
   "id": "fac1e845-8650-4e5a-9f6b-c314932b508c",
   "metadata": {},
   "outputs": [
    {
     "data": {
      "text/plain": [
       "True"
      ]
     },
     "execution_count": 35,
     "metadata": {},
     "output_type": "execute_result"
    }
   ],
   "source": [
    "np.allclose(matrices1[5], matrices1a[5])"
   ]
  },
  {
   "cell_type": "code",
   "execution_count": 11,
   "id": "ea6d62be-36aa-4ee3-a04d-ac29e468367b",
   "metadata": {},
   "outputs": [
    {
     "data": {
      "text/plain": [
       "(1, 30, 6)"
      ]
     },
     "execution_count": 11,
     "metadata": {},
     "output_type": "execute_result"
    }
   ],
   "source": [
    "E1.shape"
   ]
  },
  {
   "cell_type": "code",
   "execution_count": 12,
   "id": "0ae32ed7-5472-4123-85e2-579c364e535d",
   "metadata": {},
   "outputs": [
    {
     "data": {
      "text/plain": [
       "(2, 30, 3)"
      ]
     },
     "execution_count": 12,
     "metadata": {},
     "output_type": "execute_result"
    }
   ],
   "source": [
    "E.shape"
   ]
  },
  {
   "cell_type": "code",
   "execution_count": 27,
   "id": "8a6ad4fd-5a86-418e-8fd2-f0e76d4bffb9",
   "metadata": {},
   "outputs": [
    {
     "data": {
      "text/plain": [
       "array([[0.+0.j, 0.+0.j, 0.+0.j, 0.+0.j, 0.+0.j, 0.+0.j, 0.+0.j, 0.+0.j,\n",
       "        0.+0.j, 0.+0.j, 0.+0.j, 0.+0.j, 0.+0.j, 0.+0.j, 0.+0.j, 0.+0.j,\n",
       "        0.+0.j, 0.+0.j, 0.+0.j, 0.+0.j, 0.+0.j, 0.+0.j, 0.+0.j, 0.+0.j,\n",
       "        0.+0.j, 0.+0.j, 0.+0.j, 0.+0.j, 0.+0.j, 0.+0.j],\n",
       "       [0.+0.j, 0.+0.j, 0.+0.j, 0.+0.j, 0.+0.j, 0.+0.j, 0.+0.j, 0.+0.j,\n",
       "        0.+0.j, 0.+0.j, 0.+0.j, 0.+0.j, 0.+0.j, 0.+0.j, 0.+0.j, 0.+0.j,\n",
       "        0.+0.j, 0.+0.j, 0.+0.j, 0.+0.j, 0.+0.j, 0.+0.j, 0.+0.j, 0.+0.j,\n",
       "        0.+0.j, 0.+0.j, 0.+0.j, 0.+0.j, 0.+0.j, 0.+0.j]])"
      ]
     },
     "execution_count": 27,
     "metadata": {},
     "output_type": "execute_result"
    }
   ],
   "source": [
    "field1h[...,2]-E1[...,1]"
   ]
  },
  {
   "cell_type": "code",
   "execution_count": 18,
   "id": "0f6cc434-dc3a-4930-a565-7c62a8693423",
   "metadata": {},
   "outputs": [
    {
     "data": {
      "text/plain": [
       "(30, 2, 4)"
      ]
     },
     "execution_count": 18,
     "metadata": {},
     "output_type": "execute_result"
    }
   ],
   "source": [
    "HzEz1[0].shape"
   ]
  },
  {
   "cell_type": "code",
   "execution_count": 20,
   "id": "75cbfdf5-40c6-4e0b-a9fd-b4841b64fc65",
   "metadata": {},
   "outputs": [
    {
     "data": {
      "text/plain": [
       "array([[[ 0.00000000e+00+0.00000000e+00j,\n",
       "         -3.62136092e-13-4.19237703e-14j],\n",
       "        [ 0.00000000e+00+0.00000000e+00j,\n",
       "         -3.55827107e-13-3.81336240e-14j],\n",
       "        [ 0.00000000e+00+0.00000000e+00j,\n",
       "         -3.62389313e-13-4.12845713e-14j],\n",
       "        [ 0.00000000e+00+0.00000000e+00j,\n",
       "         -3.57144539e-13-3.56088055e-14j],\n",
       "        [ 0.00000000e+00+0.00000000e+00j,\n",
       "         -3.61144998e-13-4.14790440e-14j],\n",
       "        [ 0.00000000e+00+0.00000000e+00j,\n",
       "         -3.60342041e-13-3.34219809e-14j],\n",
       "        [ 0.00000000e+00+0.00000000e+00j,\n",
       "         -3.57992549e-13-3.99493990e-14j],\n",
       "        [ 0.00000000e+00+0.00000000e+00j,\n",
       "         -3.64140668e-13-3.47610223e-14j],\n",
       "        [ 0.00000000e+00+0.00000000e+00j,\n",
       "         -3.56803316e-13-3.43413055e-14j],\n",
       "        [ 0.00000000e+00+0.00000000e+00j,\n",
       "         -3.62686205e-13-3.86726372e-14j],\n",
       "        [ 0.00000000e+00+0.00000000e+00j,\n",
       "         -3.62328571e-13-3.07349744e-14j],\n",
       "        [ 0.00000000e+00+0.00000000e+00j,\n",
       "         -3.57219707e-13-3.54246968e-14j],\n",
       "        [ 0.00000000e+00+0.00000000e+00j,\n",
       "         -3.64619896e-13-3.60668909e-14j],\n",
       "        [ 0.00000000e+00+0.00000000e+00j,\n",
       "         -3.61799121e-13-2.89753923e-14j],\n",
       "        [ 0.00000000e+00+0.00000000e+00j,\n",
       "         -3.57680585e-13-3.43044621e-14j],\n",
       "        [ 0.00000000e+00+0.00000000e+00j,\n",
       "         -3.64807695e-13-3.51245438e-14j],\n",
       "        [ 0.00000000e+00+0.00000000e+00j,\n",
       "         -3.63404337e-13-2.78488099e-14j],\n",
       "        [ 0.00000000e+00+0.00000000e+00j,\n",
       "         -3.57684164e-13-3.11458585e-14j],\n",
       "        [ 0.00000000e+00+0.00000000e+00j,\n",
       "         -3.62990386e-13-3.51922919e-14j],\n",
       "        [ 0.00000000e+00+0.00000000e+00j,\n",
       "         -3.66133500e-13-2.87714536e-14j],\n",
       "        [ 0.00000000e+00+0.00000000e+00j,\n",
       "         -3.59838872e-13-2.66182246e-14j],\n",
       "        [ 0.00000000e+00+0.00000000e+00j,\n",
       "         -3.59178612e-13-3.27437469e-14j],\n",
       "        [ 0.00000000e+00+0.00000000e+00j,\n",
       "         -3.65735403e-13-3.24399154e-14j],\n",
       "        [ 0.00000000e+00+0.00000000e+00j,\n",
       "         -3.65490673e-13-2.57369880e-14j],\n",
       "        [ 0.00000000e+00+0.00000000e+00j,\n",
       "         -3.59349040e-13-2.58742193e-14j],\n",
       "        [ 0.00000000e+00+0.00000000e+00j,\n",
       "         -3.59831952e-13-3.16783712e-14j],\n",
       "        [ 0.00000000e+00+0.00000000e+00j,\n",
       "         -3.65985410e-13-3.12793083e-14j],\n",
       "        [ 0.00000000e+00+0.00000000e+00j,\n",
       "         -3.66543909e-13-2.50063644e-14j],\n",
       "        [ 0.00000000e+00+0.00000000e+00j,\n",
       "         -3.60877658e-13-2.34977532e-14j],\n",
       "        [ 0.00000000e+00+0.00000000e+00j,\n",
       "         -3.58911053e-13-2.85875538e-14j]],\n",
       "\n",
       "       [[ 0.00000000e+00+0.00000000e+00j,\n",
       "         -2.21713342e-29-2.57023914e-30j],\n",
       "        [ 0.00000000e+00+0.00000000e+00j,\n",
       "         -2.17914585e-29-2.33212109e-30j],\n",
       "        [ 0.00000000e+00+0.00000000e+00j,\n",
       "         -2.21854612e-29-2.53015520e-30j],\n",
       "        [ 0.00000000e+00+0.00000000e+00j,\n",
       "         -2.18738011e-29-2.17945590e-30j],\n",
       "        [ 0.00000000e+00+0.00000000e+00j,\n",
       "         -2.21079985e-29-2.53879650e-30j],\n",
       "        [ 0.00000000e+00+0.00000000e+00j,\n",
       "         -2.20693647e-29-2.05010679e-30j],\n",
       "        [ 0.00000000e+00+0.00000000e+00j,\n",
       "         -2.19178770e-29-2.44020309e-30j],\n",
       "        [ 0.00000000e+00+0.00000000e+00j,\n",
       "         -2.22958037e-29-2.13535393e-30j],\n",
       "        [ 0.00000000e+00+0.00000000e+00j,\n",
       "         -2.18532394e-29-2.09786992e-30j],\n",
       "        [ 0.00000000e+00+0.00000000e+00j,\n",
       "         -2.22002095e-29-2.36795561e-30j],\n",
       "        [ 0.00000000e+00+0.00000000e+00j,\n",
       "         -2.21915958e-29-1.88784164e-30j],\n",
       "        [ 0.00000000e+00+0.00000000e+00j,\n",
       "         -2.18742229e-29-2.16078275e-30j],\n",
       "        [ 0.00000000e+00+0.00000000e+00j,\n",
       "         -2.23188056e-29-2.21274644e-30j],\n",
       "        [ 0.00000000e+00+0.00000000e+00j,\n",
       "         -2.21615248e-29-1.77836855e-30j],\n",
       "        [ 0.00000000e+00+0.00000000e+00j,\n",
       "         -2.19012296e-29-2.09137802e-30j],\n",
       "        [ 0.00000000e+00+0.00000000e+00j,\n",
       "         -2.23295514e-29-2.15508562e-30j],\n",
       "        [ 0.00000000e+00+0.00000000e+00j,\n",
       "         -2.22592253e-29-1.71131416e-30j],\n",
       "        [ 0.00000000e+00+0.00000000e+00j,\n",
       "         -2.19050126e-29-1.89801979e-30j],\n",
       "        [ 0.00000000e+00+0.00000000e+00j,\n",
       "         -2.22167866e-29-2.15437430e-30j],\n",
       "        [ 0.00000000e+00+0.00000000e+00j,\n",
       "         -2.24208421e-29-1.77147304e-30j],\n",
       "        [ 0.00000000e+00+0.00000000e+00j,\n",
       "         -2.20429075e-29-1.62612246e-30j],\n",
       "        [ 0.00000000e+00+0.00000000e+00j,\n",
       "         -2.19880756e-29-1.99629110e-30j],\n",
       "        [ 0.00000000e+00+0.00000000e+00j,\n",
       "         -2.23864900e-29-1.99245171e-30j],\n",
       "        [ 0.00000000e+00+0.00000000e+00j,\n",
       "         -2.23862348e-29-1.58368260e-30j],\n",
       "        [ 0.00000000e+00+0.00000000e+00j,\n",
       "         -2.20112971e-29-1.57750490e-30j],\n",
       "        [ 0.00000000e+00+0.00000000e+00j,\n",
       "         -2.20265123e-29-1.93197474e-30j],\n",
       "        [ 0.00000000e+00+0.00000000e+00j,\n",
       "         -2.24017942e-29-1.92160253e-30j],\n",
       "        [ 0.00000000e+00+0.00000000e+00j,\n",
       "         -2.24496348e-29-1.53984558e-30j],\n",
       "        [ 0.00000000e+00+0.00000000e+00j,\n",
       "         -2.21065399e-29-1.43440307e-30j],\n",
       "        [ 0.00000000e+00+0.00000000e+00j,\n",
       "         -2.19739933e-29-1.74061017e-30j]]])"
      ]
     },
     "execution_count": 20,
     "metadata": {},
     "output_type": "execute_result"
    }
   ],
   "source": [
    "dotmv(HzEz1[0],field1h)"
   ]
  },
  {
   "cell_type": "code",
   "execution_count": 21,
   "id": "46498510-33e7-4716-8711-43a36ca40ddf",
   "metadata": {},
   "outputs": [
    {
     "ename": "ValueError",
     "evalue": "dotmv: Output operand 0 has a mismatch in its core dimension 0, with gufunc signature (n,m),(m)->(n) (size 2 is different from 30)",
     "output_type": "error",
     "traceback": [
      "\u001b[0;31m---------------------------------------------------------------------------\u001b[0m",
      "\u001b[0;31mValueError\u001b[0m                                Traceback (most recent call last)",
      "Input \u001b[0;32mIn [21]\u001b[0m, in \u001b[0;36m<cell line: 1>\u001b[0;34m()\u001b[0m\n\u001b[0;32m----> 1\u001b[0m \u001b[43mHEvec\u001b[49m\u001b[43m(\u001b[49m\u001b[43mHzEz1\u001b[49m\u001b[43m[\u001b[49m\u001b[43mi\u001b[49m\u001b[43m]\u001b[49m\u001b[43m,\u001b[49m\u001b[43m \u001b[49m\u001b[43mfield1h\u001b[49m\u001b[43m)\u001b[49m\n",
      "File \u001b[0;32m~/GitHub/dtmm2/dtmm2/tmm.py:837\u001b[0m, in \u001b[0;36mHEvec\u001b[0;34m(fvec, HzEz)\u001b[0m\n\u001b[1;32m    835\u001b[0m \u001b[38;5;28;01melse\u001b[39;00m:\n\u001b[1;32m    836\u001b[0m     out \u001b[38;5;241m=\u001b[39m fvec\n\u001b[0;32m--> 837\u001b[0m \u001b[38;5;28;01mreturn\u001b[39;00m \u001b[43mdotmv\u001b[49m\u001b[43m(\u001b[49m\u001b[43mHzEz\u001b[49m\u001b[43m,\u001b[49m\u001b[43m \u001b[49m\u001b[43mout\u001b[49m\u001b[43m[\u001b[49m\u001b[38;5;241;43m.\u001b[39;49m\u001b[38;5;241;43m.\u001b[39;49m\u001b[38;5;241;43m.\u001b[39;49m\u001b[43m,\u001b[49m\u001b[38;5;241;43m1\u001b[39;49m\u001b[43m:\u001b[49m\u001b[38;5;241;43m-\u001b[39;49m\u001b[38;5;241;43m1\u001b[39;49m\u001b[43m]\u001b[49m\u001b[43m,\u001b[49m\u001b[43m \u001b[49m\u001b[43mout\u001b[49m\u001b[43m[\u001b[49m\u001b[38;5;241;43m.\u001b[39;49m\u001b[38;5;241;43m.\u001b[39;49m\u001b[38;5;241;43m.\u001b[39;49m\u001b[43m,\u001b[49m\u001b[38;5;241;43m0\u001b[39;49m\u001b[43m:\u001b[49m\u001b[43m:\u001b[49m\u001b[38;5;241;43m5\u001b[39;49m\u001b[43m]\u001b[49m\u001b[43m)\u001b[49m\n",
      "File \u001b[0;32m~/opt/anaconda3/lib/python3.8/site-packages/numba/np/ufunc/gufunc.py:170\u001b[0m, in \u001b[0;36mGUFunc.__call__\u001b[0;34m(self, *args, **kwargs)\u001b[0m\n\u001b[1;32m    166\u001b[0m \u001b[38;5;28;01mdef\u001b[39;00m \u001b[38;5;21m__call__\u001b[39m(\u001b[38;5;28mself\u001b[39m, \u001b[38;5;241m*\u001b[39margs, \u001b[38;5;241m*\u001b[39m\u001b[38;5;241m*\u001b[39mkwargs):\n\u001b[1;32m    167\u001b[0m     \u001b[38;5;66;03m# If compilation is disabled OR it is NOT a dynamic gufunc\u001b[39;00m\n\u001b[1;32m    168\u001b[0m     \u001b[38;5;66;03m# call the underlying gufunc\u001b[39;00m\n\u001b[1;32m    169\u001b[0m     \u001b[38;5;28;01mif\u001b[39;00m \u001b[38;5;28mself\u001b[39m\u001b[38;5;241m.\u001b[39m_frozen \u001b[38;5;129;01mor\u001b[39;00m \u001b[38;5;129;01mnot\u001b[39;00m \u001b[38;5;28mself\u001b[39m\u001b[38;5;241m.\u001b[39mis_dynamic:\n\u001b[0;32m--> 170\u001b[0m         \u001b[38;5;28;01mreturn\u001b[39;00m \u001b[38;5;28;43mself\u001b[39;49m\u001b[38;5;241;43m.\u001b[39;49m\u001b[43mufunc\u001b[49m\u001b[43m(\u001b[49m\u001b[38;5;241;43m*\u001b[39;49m\u001b[43margs\u001b[49m\u001b[43m,\u001b[49m\u001b[43m \u001b[49m\u001b[38;5;241;43m*\u001b[39;49m\u001b[38;5;241;43m*\u001b[39;49m\u001b[43mkwargs\u001b[49m\u001b[43m)\u001b[49m\n\u001b[1;32m    171\u001b[0m     \u001b[38;5;28;01melif\u001b[39;00m \u001b[38;5;124m\"\u001b[39m\u001b[38;5;124mout\u001b[39m\u001b[38;5;124m\"\u001b[39m \u001b[38;5;129;01min\u001b[39;00m kwargs:\n\u001b[1;32m    172\u001b[0m         \u001b[38;5;66;03m# If \"out\" argument is supplied\u001b[39;00m\n\u001b[1;32m    173\u001b[0m         args \u001b[38;5;241m+\u001b[39m\u001b[38;5;241m=\u001b[39m (kwargs\u001b[38;5;241m.\u001b[39mpop(\u001b[38;5;124m\"\u001b[39m\u001b[38;5;124mout\u001b[39m\u001b[38;5;124m\"\u001b[39m),)\n",
      "\u001b[0;31mValueError\u001b[0m: dotmv: Output operand 0 has a mismatch in its core dimension 0, with gufunc signature (n,m),(m)->(n) (size 2 is different from 30)"
     ]
    }
   ],
   "source": [
    "HEvec(HzEz1[i], field1h)"
   ]
  },
  {
   "cell_type": "code",
   "execution_count": 14,
   "id": "11283e4f-f697-4b21-a68d-e15b256f0356",
   "metadata": {},
   "outputs": [
    {
     "name": "stdout",
     "output_type": "stream",
     "text": [
      "69.7 µs ± 18.2 µs per loop (mean ± std. dev. of 7 runs, 10,000 loops each)\n"
     ]
    }
   ],
   "source": [
    "timeit fvec2HEvec(field1h, epsilon1[i], angles[i], BETA, PHI)"
   ]
  },
  {
   "cell_type": "code",
   "execution_count": 16,
   "id": "e2df8abb-8fd5-480b-8ec3-4aa3ddd08165",
   "metadata": {},
   "outputs": [
    {
     "name": "stdout",
     "output_type": "stream",
     "text": [
      "28.2 µs ± 11.8 µs per loop (mean ± std. dev. of 7 runs, 10,000 loops each)\n"
     ]
    }
   ],
   "source": [
    "timeit HEvec(field1h, HzEz1[0])"
   ]
  },
  {
   "cell_type": "code",
   "execution_count": 17,
   "id": "ba076f31-5d39-4a57-aa13-10406de8be91",
   "metadata": {},
   "outputs": [
    {
     "data": {
      "text/plain": [
       "array([[[0.99370494+0.j        , 0.        +0.06531245j,\n",
       "         0.        +0.j        , 0.        +0.j        ],\n",
       "        [0.        +0.19216085j, 0.99370494+0.j        ,\n",
       "         0.        +0.j        , 0.        +0.j        ],\n",
       "        [0.        +0.j        , 0.        +0.j        ,\n",
       "         0.99508622+0.j        , 0.        -0.06534261j],\n",
       "        [0.        +0.j        , 0.        +0.j        ,\n",
       "         0.        -0.15003099j, 0.99508622+0.j        ]],\n",
       "\n",
       "       [[0.99391994+0.j        , 0.        +0.06421008j,\n",
       "         0.        +0.j        , 0.        +0.j        ],\n",
       "        [0.        +0.18880437j, 0.99391994+0.j        ,\n",
       "         0.        +0.j        , 0.        +0.j        ],\n",
       "        [0.        +0.j        , 0.        +0.j        ,\n",
       "         0.99525446+0.j        , 0.        -0.06423872j],\n",
       "        [0.        +0.j        , 0.        +0.j        ,\n",
       "         0.        -0.14739643j, 0.99525446+0.j        ]],\n",
       "\n",
       "       [[0.99412407+0.j        , 0.        +0.06314422j,\n",
       "         0.        +0.j        , 0.        +0.j        ],\n",
       "        [0.        +0.18556463j, 0.99412407+0.j        ,\n",
       "         0.        +0.j        , 0.        +0.j        ],\n",
       "        [0.        +0.j        , 0.        +0.j        ,\n",
       "         0.99541416+0.j        , 0.        -0.06317144j],\n",
       "        [0.        +0.j        , 0.        +0.j        ,\n",
       "         0.        -0.14485417j, 0.99541416+0.j        ]],\n",
       "\n",
       "       [[0.99431804+0.j        , 0.        +0.06211309j,\n",
       "         0.        +0.j        , 0.        +0.j        ],\n",
       "        [0.        +0.18243557j, 0.99431804+0.j        ,\n",
       "         0.        +0.j        , 0.        +0.j        ],\n",
       "        [0.        +0.j        , 0.        +0.j        ,\n",
       "         0.99556589+0.j        , 0.        -0.062139j  ],\n",
       "        [0.        +0.j        , 0.        +0.j        ,\n",
       "         0.        -0.14239938j, 0.99556589+0.j        ]],\n",
       "\n",
       "       [[0.99450252+0.j        , 0.        +0.06111504j,\n",
       "         0.        +0.j        , 0.        +0.j        ],\n",
       "        [0.        +0.17941156j, 0.99450252+0.j        ,\n",
       "         0.        +0.j        , 0.        +0.j        ],\n",
       "        [0.        +0.j        , 0.        +0.j        ,\n",
       "         0.99571018+0.j        , 0.        -0.0611397j ],\n",
       "        [0.        +0.j        , 0.        +0.j        ,\n",
       "         0.        -0.14002757j, 0.99571018+0.j        ]],\n",
       "\n",
       "       [[0.99467812+0.j        , 0.        +0.06014849j,\n",
       "         0.        +0.j        , 0.        +0.j        ],\n",
       "        [0.        +0.17648734j, 0.99467812+0.j        ,\n",
       "         0.        +0.j        , 0.        +0.j        ],\n",
       "        [0.        +0.j        , 0.        +0.j        ,\n",
       "         0.9958475 +0.j        , 0.        -0.06017199j],\n",
       "        [0.        +0.j        , 0.        +0.j        ,\n",
       "         0.        -0.13773456j, 0.9958475 +0.j        ]],\n",
       "\n",
       "       [[0.9948454 +0.j        , 0.        +0.05921198j,\n",
       "         0.        +0.j        , 0.        +0.j        ],\n",
       "        [0.        +0.173658j  , 0.9948454 +0.j        ,\n",
       "         0.        +0.j        , 0.        +0.j        ],\n",
       "        [0.        +0.j        , 0.        +0.j        ,\n",
       "         0.9959783 +0.j        , 0.        -0.05923439j],\n",
       "        [0.        +0.j        , 0.        +0.j        ,\n",
       "         0.        -0.13551642j, 0.9959783 +0.j        ]],\n",
       "\n",
       "       [[0.99500488+0.j        , 0.        +0.05830413j,\n",
       "         0.        +0.j        , 0.        +0.j        ],\n",
       "        [0.        +0.17091895j, 0.99500488+0.j        ,\n",
       "         0.        +0.j        , 0.        +0.j        ],\n",
       "        [0.        +0.j        , 0.        +0.j        ,\n",
       "         0.99610298+0.j        , 0.        -0.05832552j],\n",
       "        [0.        +0.j        , 0.        +0.j        ,\n",
       "         0.        -0.13336953j, 0.99610298+0.j        ]],\n",
       "\n",
       "       [[0.99515705+0.j        , 0.        +0.05742365j,\n",
       "         0.        +0.j        , 0.        +0.j        ],\n",
       "        [0.        +0.1682659j , 0.99515705+0.j        ,\n",
       "         0.        +0.j        , 0.        +0.j        ],\n",
       "        [0.        +0.j        , 0.        +0.j        ,\n",
       "         0.99622193+0.j        , 0.        -0.05744408j],\n",
       "        [0.        +0.j        , 0.        +0.j        ,\n",
       "         0.        -0.13129045j, 0.99622193+0.j        ]],\n",
       "\n",
       "       [[0.99530234+0.j        , 0.        +0.05656933j,\n",
       "         0.        +0.j        , 0.        +0.j        ],\n",
       "        [0.        +0.16569482j, 0.99530234+0.j        ,\n",
       "         0.        +0.j        , 0.        +0.j        ],\n",
       "        [0.        +0.j        , 0.        +0.j        ,\n",
       "         0.9963355 +0.j        , 0.        -0.05658885j],\n",
       "        [0.        +0.j        , 0.        +0.j        ,\n",
       "         0.        -0.12927599j, 0.9963355 +0.j        ]],\n",
       "\n",
       "       [[0.99544117+0.j        , 0.        +0.05574001j,\n",
       "         0.        +0.j        , 0.        +0.j        ],\n",
       "        [0.        +0.16320194j, 0.99544117+0.j        ,\n",
       "         0.        +0.j        , 0.        +0.j        ],\n",
       "        [0.        +0.j        , 0.        +0.j        ,\n",
       "         0.99644399+0.j        , 0.        -0.05575868j],\n",
       "        [0.        +0.j        , 0.        +0.j        ,\n",
       "         0.        -0.12732315j, 0.99644399+0.j        ]],\n",
       "\n",
       "       [[0.99557391+0.j        , 0.        +0.05493462j,\n",
       "         0.        +0.j        , 0.        +0.j        ],\n",
       "        [0.        +0.1607837j , 0.99557391+0.j        ,\n",
       "         0.        +0.j        , 0.        +0.j        ],\n",
       "        [0.        +0.j        , 0.        +0.j        ,\n",
       "         0.99654772+0.j        , 0.        -0.05495249j],\n",
       "        [0.        +0.j        , 0.        +0.j        ,\n",
       "         0.        -0.12542912j, 0.99654772+0.j        ]],\n",
       "\n",
       "       [[0.99570091+0.j        , 0.        +0.05415214j,\n",
       "         0.        +0.j        , 0.        +0.j        ],\n",
       "        [0.        +0.15843678j, 0.99570091+0.j        ,\n",
       "         0.        +0.j        , 0.        +0.j        ],\n",
       "        [0.        +0.j        , 0.        +0.j        ,\n",
       "         0.99664696+0.j        , 0.        -0.05416925j],\n",
       "        [0.        +0.j        , 0.        +0.j        ,\n",
       "         0.        -0.12359126j, 0.99664696+0.j        ]],\n",
       "\n",
       "       [[0.99582251+0.j        , 0.        +0.0533916j ,\n",
       "         0.        +0.j        , 0.        +0.j        ],\n",
       "        [0.        +0.15615804j, 0.99582251+0.j        ,\n",
       "         0.        +0.j        , 0.        +0.j        ],\n",
       "        [0.        +0.j        , 0.        +0.j        ,\n",
       "         0.99674196+0.j        , 0.        -0.05340799j],\n",
       "        [0.        +0.j        , 0.        +0.j        ,\n",
       "         0.        -0.12180707j, 0.99674196+0.j        ]],\n",
       "\n",
       "       [[0.995939  +0.j        , 0.        +0.0526521j ,\n",
       "         0.        +0.j        , 0.        +0.j        ],\n",
       "        [0.        +0.15394452j, 0.995939  +0.j        ,\n",
       "         0.        +0.j        , 0.        +0.j        ],\n",
       "        [0.        +0.j        , 0.        +0.j        ,\n",
       "         0.99683296+0.j        , 0.        -0.05266782j],\n",
       "        [0.        +0.j        , 0.        +0.j        ,\n",
       "         0.        -0.12007422j, 0.99683296+0.j        ]],\n",
       "\n",
       "       [[0.99605067+0.j        , 0.        +0.05193277j,\n",
       "         0.        +0.j        , 0.        +0.j        ],\n",
       "        [0.        +0.15179345j, 0.99605067+0.j        ,\n",
       "         0.        +0.j        , 0.        +0.j        ],\n",
       "        [0.        +0.j        , 0.        +0.j        ,\n",
       "         0.99692019+0.j        , 0.        -0.05194785j],\n",
       "        [0.        +0.j        , 0.        +0.j        ,\n",
       "         0.        -0.1183905j , 0.99692019+0.j        ]],\n",
       "\n",
       "       [[0.99615779+0.j        , 0.        +0.05123281j,\n",
       "         0.        +0.j        , 0.        +0.j        ],\n",
       "        [0.        +0.1497022j , 0.99615779+0.j        ,\n",
       "         0.        +0.j        , 0.        +0.j        ],\n",
       "        [0.        +0.j        , 0.        +0.j        ,\n",
       "         0.99700385+0.j        , 0.        -0.05124729j],\n",
       "        [0.        +0.j        , 0.        +0.j        ,\n",
       "         0.        -0.11675384j, 0.99700385+0.j        ]],\n",
       "\n",
       "       [[0.99626059+0.j        , 0.        +0.05055144j,\n",
       "         0.        +0.j        , 0.        +0.j        ],\n",
       "        [0.        +0.14766828j, 0.99626059+0.j        ,\n",
       "         0.        +0.j        , 0.        +0.j        ],\n",
       "        [0.        +0.j        , 0.        +0.j        ,\n",
       "         0.99708414+0.j        , 0.        -0.05056534j],\n",
       "        [0.        +0.j        , 0.        +0.j        ,\n",
       "         0.        -0.11516226j, 0.99708414+0.j        ]],\n",
       "\n",
       "       [[0.9963593 +0.j        , 0.        +0.04988794j,\n",
       "         0.        +0.j        , 0.        +0.j        ],\n",
       "        [0.        +0.14568935j, 0.9963593 +0.j        ,\n",
       "         0.        +0.j        , 0.        +0.j        ],\n",
       "        [0.        +0.j        , 0.        +0.j        ,\n",
       "         0.99716123+0.j        , 0.        -0.04990129j],\n",
       "        [0.        +0.j        , 0.        +0.j        ,\n",
       "         0.        -0.11361392j, 0.99716123+0.j        ]],\n",
       "\n",
       "       [[0.99645415+0.j        , 0.        +0.0492416j ,\n",
       "         0.        +0.j        , 0.        +0.j        ],\n",
       "        [0.        +0.14376319j, 0.99645415+0.j        ,\n",
       "         0.        +0.j        , 0.        +0.j        ],\n",
       "        [0.        +0.j        , 0.        +0.j        ,\n",
       "         0.99723529+0.j        , 0.        -0.04925444j],\n",
       "        [0.        +0.j        , 0.        +0.j        ,\n",
       "         0.        -0.11210706j, 0.99723529+0.j        ]],\n",
       "\n",
       "       [[0.99654533+0.j        , 0.        +0.04861178j,\n",
       "         0.        +0.j        , 0.        +0.j        ],\n",
       "        [0.        +0.14188771j, 0.99654533+0.j        ,\n",
       "         0.        +0.j        , 0.        +0.j        ],\n",
       "        [0.        +0.j        , 0.        +0.j        ,\n",
       "         0.99730649+0.j        , 0.        -0.04862413j],\n",
       "        [0.        +0.j        , 0.        +0.j        ,\n",
       "         0.        -0.11064002j, 0.99730649+0.j        ]],\n",
       "\n",
       "       [[0.99663302+0.j        , 0.        +0.04799784j,\n",
       "         0.        +0.j        , 0.        +0.j        ],\n",
       "        [0.        +0.14006091j, 0.99663302+0.j        ,\n",
       "         0.        +0.j        , 0.        +0.j        ],\n",
       "        [0.        +0.j        , 0.        +0.j        ,\n",
       "         0.99737495+0.j        , 0.        -0.04800973j],\n",
       "        [0.        +0.j        , 0.        +0.j        ,\n",
       "         0.        -0.10921123j, 0.99737495+0.j        ]],\n",
       "\n",
       "       [[0.99671741+0.j        , 0.        +0.04739921j,\n",
       "         0.        +0.j        , 0.        +0.j        ],\n",
       "        [0.        +0.13828092j, 0.99671741+0.j        ,\n",
       "         0.        +0.j        , 0.        +0.j        ],\n",
       "        [0.        +0.j        , 0.        +0.j        ,\n",
       "         0.99744084+0.j        , 0.        -0.04741065j],\n",
       "        [0.        +0.j        , 0.        +0.j        ,\n",
       "         0.        -0.10781921j, 0.99744084+0.j        ]],\n",
       "\n",
       "       [[0.99679866+0.j        , 0.        +0.0468153j ,\n",
       "         0.        +0.j        , 0.        +0.j        ],\n",
       "        [0.        +0.13654594j, 0.99679866+0.j        ,\n",
       "         0.        +0.j        , 0.        +0.j        ],\n",
       "        [0.        +0.j        , 0.        +0.j        ,\n",
       "         0.99750426+0.j        , 0.        -0.04682633j],\n",
       "        [0.        +0.j        , 0.        +0.j        ,\n",
       "         0.        -0.10646253j, 0.99750426+0.j        ]],\n",
       "\n",
       "       [[0.99687692+0.j        , 0.        +0.04624559j,\n",
       "         0.        +0.j        , 0.        +0.j        ],\n",
       "        [0.        +0.13485428j, 0.99687692+0.j        ,\n",
       "         0.        +0.j        , 0.        +0.j        ],\n",
       "        [0.        +0.j        , 0.        +0.j        ,\n",
       "         0.99756535+0.j        , 0.        -0.04625622j],\n",
       "        [0.        +0.j        , 0.        +0.j        ,\n",
       "         0.        -0.10513986j, 0.99756535+0.j        ]],\n",
       "\n",
       "       [[0.99695233+0.j        , 0.        +0.04568957j,\n",
       "         0.        +0.j        , 0.        +0.j        ],\n",
       "        [0.        +0.13320431j, 0.99695233+0.j        ,\n",
       "         0.        +0.j        , 0.        +0.j        ],\n",
       "        [0.        +0.j        , 0.        +0.j        ,\n",
       "         0.99762422+0.j        , 0.        -0.04569981j],\n",
       "        [0.        +0.j        , 0.        +0.j        ,\n",
       "         0.        -0.10384993j, 0.99762422+0.j        ]],\n",
       "\n",
       "       [[0.99702504+0.j        , 0.        +0.04514674j,\n",
       "         0.        +0.j        , 0.        +0.j        ],\n",
       "        [0.        +0.13159452j, 0.99702504+0.j        ,\n",
       "         0.        +0.j        , 0.        +0.j        ],\n",
       "        [0.        +0.j        , 0.        +0.j        ,\n",
       "         0.99768097+0.j        , 0.        -0.04515662j],\n",
       "        [0.        +0.j        , 0.        +0.j        ,\n",
       "         0.        -0.10259153j, 0.99768097+0.j        ]],\n",
       "\n",
       "       [[0.99709518+0.j        , 0.        +0.04461664j,\n",
       "         0.        +0.j        , 0.        +0.j        ],\n",
       "        [0.        +0.13002344j, 0.99709518+0.j        ,\n",
       "         0.        +0.j        , 0.        +0.j        ],\n",
       "        [0.        +0.j        , 0.        +0.j        ,\n",
       "         0.9977357 +0.j        , 0.        -0.04462618j],\n",
       "        [0.        +0.j        , 0.        +0.j        ,\n",
       "         0.        -0.1013635j , 0.9977357 +0.j        ]],\n",
       "\n",
       "       [[0.99716285+0.j        , 0.        +0.04409884j,\n",
       "         0.        +0.j        , 0.        +0.j        ],\n",
       "        [0.        +0.12848968j, 0.99716285+0.j        ,\n",
       "         0.        +0.j        , 0.        +0.j        ],\n",
       "        [0.        +0.j        , 0.        +0.j        ,\n",
       "         0.99778852+0.j        , 0.        -0.04410805j],\n",
       "        [0.        +0.j        , 0.        +0.j        ,\n",
       "         0.        -0.10016476j, 0.99778852+0.j        ]],\n",
       "\n",
       "       [[0.99722818+0.j        , 0.        +0.04359291j,\n",
       "         0.        +0.j        , 0.        +0.j        ],\n",
       "        [0.        +0.12699192j, 0.99722818+0.j        ,\n",
       "         0.        +0.j        , 0.        +0.j        ],\n",
       "        [0.        +0.j        , 0.        +0.j        ,\n",
       "         0.9978395 +0.j        , 0.        -0.0436018j ],\n",
       "        [0.        +0.j        , 0.        +0.j        ,\n",
       "         0.        -0.09899425j, 0.9978395 +0.j        ]]])"
      ]
     },
     "execution_count": 17,
     "metadata": {},
     "output_type": "execute_result"
    }
   ],
   "source": [
    "matrices1[0]"
   ]
  },
  {
   "cell_type": "code",
   "execution_count": 160,
   "id": "55e07bb2-3691-4597-9d75-1f244675d3c5",
   "metadata": {},
   "outputs": [
    {
     "data": {
      "text/plain": [
       "5"
      ]
     },
     "execution_count": 160,
     "metadata": {},
     "output_type": "execute_result"
    }
   ],
   "source": [
    "eigenmask(BEAM_SHAPE, K01_PIXEL/10, aspect = PIXEL_ASPECT, betamax = 1).sum()"
   ]
  },
  {
   "cell_type": "code",
   "execution_count": 196,
   "id": "a5b674cd-39fc-4d73-ac3e-31d7732b7a03",
   "metadata": {},
   "outputs": [],
   "source": [
    "from dtmm2.tmm import field_eig\n",
    "alpha,f = field_eig((1,1,1),(0,0,0),0.5,np.pi/4, normalize = True)\n",
    "alpha0,f0 = field_eig((1,1,1),(0,0,0),0.,np.pi/4, normalize = True)"
   ]
  },
  {
   "cell_type": "code",
   "execution_count": 199,
   "id": "ef45ca1c-1084-4608-b277-3bf872243d53",
   "metadata": {},
   "outputs": [
    {
     "data": {
      "text/plain": [
       "array([[ 0.70710678+0.j,  0.70710678+0.j, -0.70710678+0.j,\n",
       "        -0.70710678+0.j],\n",
       "       [ 0.70710678+0.j, -0.70710678+0.j, -0.70710678+0.j,\n",
       "         0.70710678+0.j],\n",
       "       [ 0.70710678+0.j,  0.70710678+0.j,  0.70710678+0.j,\n",
       "         0.70710678+0.j],\n",
       "       [-0.70710678+0.j,  0.70710678+0.j, -0.70710678-0.j,\n",
       "         0.70710678+0.j]])"
      ]
     },
     "execution_count": 199,
     "metadata": {},
     "output_type": "execute_result"
    }
   ],
   "source": [
    "f0"
   ]
  },
  {
   "cell_type": "code",
   "execution_count": null,
   "id": "ef8ecbcd-91d7-40be-9299-d3597ff02d3f",
   "metadata": {},
   "outputs": [],
   "source": []
  }
 ],
 "metadata": {
  "kernelspec": {
   "display_name": "Python 3 (ipykernel)",
   "language": "python",
   "name": "python3"
  },
  "language_info": {
   "codemirror_mode": {
    "name": "ipython",
    "version": 3
   },
   "file_extension": ".py",
   "mimetype": "text/x-python",
   "name": "python",
   "nbconvert_exporter": "python",
   "pygments_lexer": "ipython3",
   "version": "3.8.5"
  }
 },
 "nbformat": 4,
 "nbformat_minor": 5
}
